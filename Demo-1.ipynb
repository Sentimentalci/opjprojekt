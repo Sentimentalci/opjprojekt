{
 "cells": [
  {
   "cell_type": "code",
   "execution_count": null,
   "metadata": {},
   "outputs": [],
   "source": [
    "!pip install xgboost scikit-learn pandas - U\n"
   ]
  },
  {
   "cell_type": "markdown",
   "metadata": {},
   "source": [
    "# 1. Preprocessing and Cleaning"
   ]
  },
  {
   "cell_type": "code",
   "execution_count": null,
   "metadata": {},
   "outputs": [],
   "source": [
    "texts = []\n",
    "labels = []\n",
    "with open('Knjiga.tsv') as input_file:\n",
    "    for i, line in enumerate(input_file):\n",
    "        line = line.strip()\n",
    "\n",
    "        print(i, line, line.rsplit(\"\\t\", 2))\n",
    "        if i == 0:\n",
    "            continue\n",
    "        text, label = line.rsplit(\"\\t\", 2)\n",
    "        texts.append(text)\n",
    "        labels.append(label)\n",
    "        if i == 230:\n",
    "            break\n",
    "        print(i, text, label)\n"
   ]
  },
  {
   "cell_type": "code",
   "execution_count": null,
   "metadata": {},
   "outputs": [],
   "source": [
    "texts\n"
   ]
  },
  {
   "cell_type": "code",
   "execution_count": null,
   "metadata": {},
   "outputs": [],
   "source": [
    "labels\n"
   ]
  },
  {
   "cell_type": "markdown",
   "metadata": {},
   "source": [
    "### print unique labels"
   ]
  },
  {
   "cell_type": "code",
   "execution_count": null,
   "metadata": {},
   "outputs": [],
   "source": [
    "set(labels)\n"
   ]
  },
  {
   "cell_type": "code",
   "execution_count": null,
   "metadata": {},
   "outputs": [],
   "source": [
    "label_replace_dict = {\n",
    "    \"neutealno\": \"neutralno\",\n",
    "    \"pozitivni\": \"pozitivno\",\n",
    "    \"pozitivnk\": \"pozitivno\"\n",
    "}\n"
   ]
  },
  {
   "cell_type": "code",
   "execution_count": null,
   "metadata": {},
   "outputs": [],
   "source": [
    "lower_cased_label = [x.lower() for x in labels]\n",
    "lower_cased_label\n"
   ]
  },
  {
   "cell_type": "code",
   "execution_count": null,
   "metadata": {},
   "outputs": [],
   "source": [
    "labels = [label_replace_dict[x]\n",
    "          if x in label_replace_dict else x for x in lower_cased_label]\n"
   ]
  },
  {
   "cell_type": "code",
   "execution_count": null,
   "metadata": {},
   "outputs": [],
   "source": [
    "set(labels)\n"
   ]
  },
  {
   "cell_type": "markdown",
   "metadata": {},
   "source": [
    "## 1a. just creating dataframe for more details"
   ]
  },
  {
   "cell_type": "code",
   "execution_count": null,
   "metadata": {},
   "outputs": [],
   "source": [
    "import pandas as pd\n",
    "\n",
    "df = pd.DataFrame({\"text\": texts, \"label\": labels})\n",
    "df[\"label\"].value_counts()\n"
   ]
  },
  {
   "cell_type": "code",
   "execution_count": null,
   "metadata": {},
   "outputs": [],
   "source": [
    "df.shape"
   ]
  },
  {
   "cell_type": "code",
   "execution_count": null,
   "metadata": {},
   "outputs": [],
   "source": [
    "from sklearn.preprocessing import LabelEncoder\n",
    "le = LabelEncoder()\n",
    "le.fit(labels)\n",
    "print(le.classes_)\n",
    "labels = le.transform(labels)\n",
    "print(labels)\n"
   ]
  },
  {
   "cell_type": "markdown",
   "metadata": {},
   "source": [
    "# 2. Training\n"
   ]
  },
  {
   "cell_type": "code",
   "execution_count": null,
   "metadata": {},
   "outputs": [],
   "source": [
    "import xgboost as xgb\n",
    "from sklearn.feature_extraction.text import TfidfVectorizer\n",
    "from sklearn.model_selection import train_test_split\n",
    "from sklearn.metrics import accuracy_score, f1_score\n",
    "\n",
    "# Text data and labels\n",
    "# texts = [...]\n",
    "# labels = [...]\n",
    "\n",
    "# Split the data into train and test sets\n",
    "texts_train, texts_test, labels_train, labels_test = train_test_split(\n",
    "    texts, labels, test_size=0.2, random_state=42)\n",
    "\n",
    "# Convert text data into numerical features using TF-IDF\n",
    "vectorizer = TfidfVectorizer()\n",
    "X_train = vectorizer.fit_transform(texts_train)\n",
    "X_test = vectorizer.transform(texts_test)\n",
    "\n",
    "# Train the XGBoost model\n",
    "model = xgb.XGBClassifier(n_jobs=-1)\n",
    "model.fit(X_train, labels_train)\n",
    "\n",
    "# Make predictions on the test set\n",
    "predictions = model.predict(X_test)\n"
   ]
  },
  {
   "cell_type": "code",
   "execution_count": null,
   "metadata": {},
   "outputs": [],
   "source": [
    "# Evaluate the model performance\n",
    "accuracy = accuracy_score(labels_test, predictions)\n",
    "print(\"Accuracy: {:.2f}%\".format(accuracy * 100))\n",
    "f1 = f1_score(labels_test, predictions, average='macro')\n",
    "print(\"F1-Score: {:.2f}%\".format(f1 * 100))\n"
   ]
  },
  {
   "cell_type": "markdown",
   "metadata": {},
   "source": [
    "# 3. Predicting on New Text"
   ]
  },
  {
   "cell_type": "code",
   "execution_count": null,
   "metadata": {},
   "outputs": [],
   "source": [
    "predict_texts = [\"volim kavu\", \"ne volim kavu\"]\n",
    "X_predict = vectorizer.transform(predict_texts)\n",
    "predictions = model.predict(X_predict)\n",
    "le.inverse_transform(predictions)\n"
   ]
  },
  {
   "cell_type": "markdown",
   "metadata": {},
   "source": [
    "# 4. Reusing the Model as Inference/Prediction"
   ]
  },
  {
   "cell_type": "code",
   "execution_count": null,
   "metadata": {},
   "outputs": [],
   "source": [
    "import pickle\n",
    "import xgboost as xgb\n",
    "from sklearn.feature_extraction.text import TfidfVectorizer\n",
    "\n",
    "model_file_name = \"xgb_reg.pkl\"\n",
    "vectorizer_file_name = 'vectorizer.pk'\n",
    "\n",
    "# save\n",
    "pickle.dump(model, open(model_file_name, \"wb\"))\n",
    "with open(vectorizer_file_name, 'wb') as fin:\n",
    "    pickle.dump(vectorizer, fin)\n",
    "\n",
    "# load\n",
    "xgb_model_loaded = pickle.load(open(model_file_name, \"rb\"))\n",
    "vectorizer_loaded = pickle.load(open(vectorizer_file_name, \"rb\"))\n",
    "\n",
    "# predict\n",
    "predictions_loaded = xgb_model_loaded.predict(\n",
    "    vectorizer_loaded.transform(predict_texts))\n",
    "le.inverse_transform(predictions_loaded)\n"
   ]
  },
  {
   "cell_type": "code",
   "execution_count": null,
   "metadata": {},
   "outputs": [],
   "source": []
  }
 ],
 "metadata": {
  "kernelspec": {
   "display_name": "Python 3.12.3 64-bit (microsoft store)",
   "language": "python",
   "name": "python3"
  },
  "language_info": {
   "codemirror_mode": {
    "name": "ipython",
    "version": 3
   },
   "file_extension": ".py",
   "mimetype": "text/x-python",
   "name": "python",
   "nbconvert_exporter": "python",
   "pygments_lexer": "ipython3",
   "version": "3.12.3"
  },
  "orig_nbformat": 4,
  "vscode": {
   "interpreter": {
    "hash": "1aa6cea391b1e46f958045c4de9e47a1e95cb2cd104cf9944113d4e680f7a17f"
   }
  }
 },
 "nbformat": 4,
 "nbformat_minor": 2
}
