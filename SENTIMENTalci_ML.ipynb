{
  "cells": [
    {
      "cell_type": "code",
      "execution_count": 142,
      "id": "2f0f1f7f",
      "metadata": {
        "id": "2f0f1f7f"
      },
      "outputs": [],
      "source": [
        "#!pip install xgboost"
      ]
    },
    {
      "cell_type": "code",
      "execution_count": 143,
      "id": "6e2c70e2",
      "metadata": {
        "colab": {
          "base_uri": "https://localhost:8080/"
        },
        "id": "6e2c70e2",
        "outputId": "3d53ff89-ff9f-44c4-9764-d9f626d63806"
      },
      "outputs": [
        {
          "output_type": "execute_result",
          "data": {
            "text/plain": [
              "True"
            ]
          },
          "metadata": {},
          "execution_count": 143
        }
      ],
      "source": [
        "with open(\"/content/drive/MyDrive/Knjiga.tsv\", encoding=\"utf8\") as dat:\n",
        "    linije_teksta=dat.readlines()\n",
        "dat.closed\n",
        "dat.closed\n",
        "dat.closed"
      ]
    },
    {
      "cell_type": "code",
      "source": [
        "##from google.colab import drive\n",
        "##drive.mount('/content/drive')"
      ],
      "metadata": {
        "id": "1I7yZKeSYSgI"
      },
      "id": "1I7yZKeSYSgI",
      "execution_count": 144,
      "outputs": []
    },
    {
      "cell_type": "code",
      "execution_count": 145,
      "id": "24385451",
      "metadata": {
        "id": "24385451"
      },
      "outputs": [],
      "source": [
        "## razdvajanje teksta od oznaka\n",
        "tekst=[]\n",
        "oznake=[]\n",
        "for linija in linije_teksta:\n",
        "    try:\n",
        "        linija_l=linija.split('\\t')\n",
        "        oznake.append(linija_l[1].rstrip())\n",
        "        tekst.append(linija_l[0])\n",
        "    except:\n",
        "        continue"
      ]
    },
    {
      "cell_type": "code",
      "execution_count": 146,
      "id": "5f21b8d9",
      "metadata": {
        "colab": {
          "base_uri": "https://localhost:8080/"
        },
        "id": "5f21b8d9",
        "outputId": "97a5122c-4efe-43ac-cecb-0c429aa467ef"
      },
      "outputs": [
        {
          "output_type": "stream",
          "name": "stdout",
          "text": [
            "{'neutralno', 'pozitivno', 'negativno'}\n"
          ]
        }
      ],
      "source": [
        "oznake=[x if x != \"p\" else \"pozitivno\" for x in oznake]\n",
        "print(set(oznake))"
      ]
    },
    {
      "cell_type": "code",
      "execution_count": 147,
      "id": "aee07df0",
      "metadata": {
        "colab": {
          "base_uri": "https://localhost:8080/"
        },
        "id": "aee07df0",
        "outputId": "0cb3e8ac-ecb3-46ad-ba5a-836e3fc205b2"
      },
      "outputs": [
        {
          "output_type": "execute_result",
          "data": {
            "text/plain": [
              "oznake\n",
              "neutralno    2709\n",
              "pozitivno     364\n",
              "negativno      84\n",
              "Name: count, dtype: int64"
            ]
          },
          "metadata": {},
          "execution_count": 147
        }
      ],
      "source": [
        "import pandas as pd\n",
        "\n",
        "df = pd.DataFrame({\"tekst\": tekst, \"oznake\": oznake})\n",
        "df[\"oznake\"].value_counts()"
      ]
    },
    {
      "cell_type": "code",
      "execution_count": 148,
      "id": "75efc9ec",
      "metadata": {
        "colab": {
          "base_uri": "https://localhost:8080/"
        },
        "id": "75efc9ec",
        "outputId": "fef1562b-61fe-4104-b2fa-565c6bcd6a76"
      },
      "outputs": [
        {
          "output_type": "stream",
          "name": "stdout",
          "text": [
            "{'negativno': 0, 'neutralno': 1, 'pozitivno': 2}\n",
            "[1 1 1 1 1 0 1 1 1 1 0 2 1 0 1 1 1 1 1 1]\n"
          ]
        }
      ],
      "source": [
        "from sklearn.preprocessing import LabelEncoder\n",
        "le = LabelEncoder()\n",
        "le.fit(df[\"oznake\"])\n",
        "print(dict(zip(le.classes_,le.transform(le.classes_))))\n",
        "oznake = le.transform(df[\"oznake\"])\n",
        "print(oznake[:20])"
      ]
    },
    {
      "cell_type": "markdown",
      "id": "89103b65",
      "metadata": {
        "id": "89103b65"
      },
      "source": [
        "## Treniranje modela"
      ]
    },
    {
      "cell_type": "code",
      "execution_count": 185,
      "id": "b888e7ab",
      "metadata": {
        "id": "b888e7ab"
      },
      "outputs": [],
      "source": [
        "from sklearn.feature_extraction.text import TfidfVectorizer\n",
        "from sklearn.model_selection import train_test_split\n",
        "from sklearn.metrics import accuracy_score, f1_score\n",
        "\n",
        "# Split the data into train and test sets\n",
        "X_train, X_test, Y_train, Y_test = train_test_split(\n",
        "    tekst, oznake, test_size=0.3, random_state=42, stratify=oznake)\n",
        "\n",
        "# Convert text data into numerical features using TF-IDF\n",
        "vectorizer = TfidfVectorizer()\n",
        "X_train = vectorizer.fit_transform(X_train)\n",
        "X_test = vectorizer.transform(X_test)"
      ]
    },
    {
      "cell_type": "markdown",
      "id": "6ba9c28b",
      "metadata": {
        "id": "6ba9c28b"
      },
      "source": [
        "## XGBoost"
      ]
    },
    {
      "cell_type": "code",
      "execution_count": 186,
      "id": "db33dde0",
      "metadata": {
        "id": "db33dde0"
      },
      "outputs": [],
      "source": [
        "import xgboost as xgb\n",
        "\n",
        "# Train the XGBoost model\n",
        "model = xgb.XGBClassifier(n_jobs=-1)\n",
        "model.fit(X_train, Y_train)\n",
        "\n",
        "# Make predictions on the test set\n",
        "pred = model.predict(X_test)"
      ]
    },
    {
      "cell_type": "code",
      "execution_count": 187,
      "id": "141c8cf9",
      "metadata": {
        "colab": {
          "base_uri": "https://localhost:8080/"
        },
        "id": "141c8cf9",
        "outputId": "ac75b566-24cc-4e56-be7d-517a0c052b20"
      },
      "outputs": [
        {
          "output_type": "stream",
          "name": "stdout",
          "text": [
            "Točnost: 86.39%\n",
            "F1: 39.68%\n"
          ]
        }
      ],
      "source": [
        "# Evaluate the model performance\n",
        "točnost = accuracy_score(Y_test, pred)\n",
        "print(\"Točnost: {:.2f}%\".format(točnost * 100))\n",
        "f1 = f1_score(Y_test, pred, average='macro')\n",
        "print(\"F1: {:.2f}%\".format(f1 * 100))"
      ]
    },
    {
      "cell_type": "markdown",
      "id": "0369a8c2",
      "metadata": {
        "id": "0369a8c2"
      },
      "source": [
        "### Predviđanje"
      ]
    },
    {
      "cell_type": "code",
      "execution_count": 188,
      "id": "c3bdbff0",
      "metadata": {
        "colab": {
          "base_uri": "https://localhost:8080/"
        },
        "id": "c3bdbff0",
        "outputId": "6c19da5c-79a7-45fc-8540-93cffec80f61"
      },
      "outputs": [
        {
          "output_type": "execute_result",
          "data": {
            "text/plain": [
              "array(['neutralno', 'neutralno'], dtype=object)"
            ]
          },
          "metadata": {},
          "execution_count": 188
        }
      ],
      "source": [
        "rečenice=[\"Volim kavu\", \"Ne volim kavu\"]\n",
        "X_vektori=vectorizer.transform(rečenice)\n",
        "pred=model.predict(X_vektori)\n",
        "le.inverse_transform(pred)"
      ]
    },
    {
      "cell_type": "markdown",
      "id": "900b531c",
      "metadata": {
        "id": "900b531c"
      },
      "source": [
        "## Pohrana modela"
      ]
    },
    {
      "cell_type": "code",
      "execution_count": 189,
      "id": "4f44f695",
      "metadata": {
        "colab": {
          "base_uri": "https://localhost:8080/"
        },
        "id": "4f44f695",
        "outputId": "3c822cfe-0f6f-4f13-dabd-1001a06e7fe6"
      },
      "outputs": [
        {
          "output_type": "execute_result",
          "data": {
            "text/plain": [
              "array(['neutralno', 'neutralno'], dtype=object)"
            ]
          },
          "metadata": {},
          "execution_count": 189
        }
      ],
      "source": [
        "import pickle\n",
        "import xgboost as xgb\n",
        "from sklearn.feature_extraction.text import TfidfVectorizer\n",
        "\n",
        "model_file_name = \"xgb_reg.pkl\"\n",
        "vectorizer_file_name = 'vectorizer.pk'\n",
        "\n",
        "# save\n",
        "pickle.dump(model, open(model_file_name, \"wb\"))\n",
        "with open(vectorizer_file_name, 'wb') as fin:\n",
        "    pickle.dump(vectorizer, fin)\n",
        "\n",
        "# load\n",
        "xgb_model_učitano = pickle.load(open(model_file_name, \"rb\"))\n",
        "vectorizer_učitano = pickle.load(open(vectorizer_file_name, \"rb\"))\n",
        "\n",
        "# predict\n",
        "pred_učitano = xgb_model_učitano.predict(\n",
        "    vectorizer_učitano.transform(rečenice))\n",
        "le.inverse_transform(pred_učitano)"
      ]
    },
    {
      "cell_type": "markdown",
      "id": "9978a113",
      "metadata": {
        "id": "9978a113"
      },
      "source": [
        "## SVM"
      ]
    },
    {
      "cell_type": "code",
      "execution_count": 190,
      "id": "cf4167fa",
      "metadata": {
        "id": "cf4167fa"
      },
      "outputs": [],
      "source": [
        "from sklearn import svm\n",
        "model=svm.SVC(kernel=\"linear\", C=2)\n",
        "model.fit(X_train, Y_train)\n",
        "\n",
        "pred=model.predict(X_test)"
      ]
    },
    {
      "cell_type": "code",
      "execution_count": 191,
      "id": "00af58f8",
      "metadata": {
        "colab": {
          "base_uri": "https://localhost:8080/"
        },
        "id": "00af58f8",
        "outputId": "1d65d796-77c2-495a-8c4c-2917588bd63f"
      },
      "outputs": [
        {
          "output_type": "stream",
          "name": "stdout",
          "text": [
            "Točnost: 86.08%\n",
            "F1: 40.19%\n"
          ]
        }
      ],
      "source": [
        "točnost = accuracy_score(Y_test, pred)\n",
        "print(\"Točnost: {:.2f}%\".format(točnost * 100))\n",
        "f1 = f1_score(Y_test, pred, average='macro')\n",
        "print(\"F1: {:.2f}%\".format(f1 * 100))"
      ]
    },
    {
      "cell_type": "markdown",
      "id": "48a51378",
      "metadata": {
        "id": "48a51378"
      },
      "source": [
        "### Predviđanje"
      ]
    },
    {
      "cell_type": "code",
      "execution_count": 192,
      "id": "88db1ac7",
      "metadata": {
        "colab": {
          "base_uri": "https://localhost:8080/"
        },
        "id": "88db1ac7",
        "outputId": "cf981884-3dbd-4398-a908-52ed8fa8e880"
      },
      "outputs": [
        {
          "output_type": "execute_result",
          "data": {
            "text/plain": [
              "array(['neutralno', 'neutralno'], dtype=object)"
            ]
          },
          "metadata": {},
          "execution_count": 192
        }
      ],
      "source": [
        "rečenice=[\"Volim kavu\", \"Ne volim kavu\"]\n",
        "X_vektori=vectorizer.transform(rečenice)\n",
        "pred=model.predict(X_vektori)\n",
        "le.inverse_transform(pred)"
      ]
    },
    {
      "cell_type": "markdown",
      "id": "a87649df",
      "metadata": {
        "id": "a87649df"
      },
      "source": [
        "## KNN"
      ]
    },
    {
      "cell_type": "code",
      "execution_count": 193,
      "id": "db80992e",
      "metadata": {
        "id": "db80992e"
      },
      "outputs": [],
      "source": [
        "from sklearn.neighbors import KNeighborsClassifier\n",
        "model=KNeighborsClassifier(n_neighbors=4)\n",
        "model.fit(X_train, Y_train)\n",
        "\n",
        "pred=model.predict(X_test)"
      ]
    },
    {
      "cell_type": "code",
      "execution_count": 194,
      "id": "0a5ab23e",
      "metadata": {
        "colab": {
          "base_uri": "https://localhost:8080/"
        },
        "id": "0a5ab23e",
        "outputId": "f53515f6-b104-4b2e-8f86-f618b44dfd4d"
      },
      "outputs": [
        {
          "output_type": "stream",
          "name": "stdout",
          "text": [
            "Točnost: 85.86%\n",
            "F1: 35.46%\n"
          ]
        }
      ],
      "source": [
        "točnost = accuracy_score(Y_test, pred)\n",
        "print(\"Točnost: {:.2f}%\".format(točnost * 100))\n",
        "f1 = f1_score(Y_test, pred, average='macro')\n",
        "print(\"F1: {:.2f}%\".format(f1 * 100))"
      ]
    },
    {
      "cell_type": "markdown",
      "id": "78ed5484",
      "metadata": {
        "id": "78ed5484"
      },
      "source": [
        "### Predviđanje"
      ]
    },
    {
      "cell_type": "code",
      "execution_count": 195,
      "id": "f5066920",
      "metadata": {
        "colab": {
          "base_uri": "https://localhost:8080/"
        },
        "id": "f5066920",
        "outputId": "dc6402c6-b09e-4fda-dfb7-2acdc6293f56"
      },
      "outputs": [
        {
          "output_type": "execute_result",
          "data": {
            "text/plain": [
              "array(['neutralno', 'neutralno'], dtype=object)"
            ]
          },
          "metadata": {},
          "execution_count": 195
        }
      ],
      "source": [
        "rečenice=[\"Volim kavu\", \"Doria Russell napisala je tri scenarija, od svega na kraju nije bilo ništa.\"]\n",
        "X_vektori=vectorizer.transform(rečenice)\n",
        "pred=model.predict(X_vektori)\n",
        "le.inverse_transform(pred)"
      ]
    }
  ],
  "metadata": {
    "kernelspec": {
      "display_name": "Python 3 (ipykernel)",
      "language": "python",
      "name": "python3"
    },
    "language_info": {
      "codemirror_mode": {
        "name": "ipython",
        "version": 3
      },
      "file_extension": ".py",
      "mimetype": "text/x-python",
      "name": "python",
      "nbconvert_exporter": "python",
      "pygments_lexer": "ipython3",
      "version": "3.10.12"
    },
    "colab": {
      "provenance": []
    }
  },
  "nbformat": 4,
  "nbformat_minor": 5
}
