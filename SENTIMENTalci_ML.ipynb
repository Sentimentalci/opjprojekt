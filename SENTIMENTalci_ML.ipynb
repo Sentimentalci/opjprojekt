{
 "cells": [
  {
   "cell_type": "code",
   "execution_count": 64,
   "id": "2f0f1f7f",
   "metadata": {},
   "outputs": [
    {
     "name": "stdout",
     "output_type": "stream",
     "text": [
      "Defaulting to user installation because normal site-packages is not writeable\n",
      "Collecting xgboost\n",
      "  Downloading xgboost-2.0.3-py3-none-manylinux2014_x86_64.whl (297.1 MB)\n",
      "\u001b[2K     \u001b[38;2;114;156;31m━━━━━━━━━━━━━━━━━━━━━━━━━━━━━━━━━━━━━━━\u001b[0m \u001b[32m297.1/297.1 MB\u001b[0m \u001b[31m5.1 MB/s\u001b[0m eta \u001b[36m0:00:00\u001b[0mm eta \u001b[36m0:00:01\u001b[0m[36m0:00:01\u001b[0m\n",
      "\u001b[?25hRequirement already satisfied: scipy in /home/nxlinux/.local/lib/python3.10/site-packages (from xgboost) (1.12.0)\n",
      "Requirement already satisfied: numpy in /home/nxlinux/.local/lib/python3.10/site-packages (from xgboost) (1.24.0)\n",
      "Installing collected packages: xgboost\n",
      "Successfully installed xgboost-2.0.3\n"
     ]
    }
   ],
   "source": [
    "!pip install xgboost"
   ]
  },
  {
   "cell_type": "code",
   "execution_count": 37,
   "id": "6e2c70e2",
   "metadata": {},
   "outputs": [
    {
     "data": {
      "text/plain": [
       "True"
      ]
     },
     "execution_count": 37,
     "metadata": {},
     "output_type": "execute_result"
    }
   ],
   "source": [
    "with open(\"Knjiga.tsv\", encoding=\"utf8\") as dat:\n",
    "    linije_teksta=dat.readlines()\n",
    "dat.closed\n",
    "dat.closed\n",
    "dat.closed"
   ]
  },
  {
   "cell_type": "code",
   "execution_count": 54,
   "id": "24385451",
   "metadata": {},
   "outputs": [],
   "source": [
    "## razdvajanje teksta od oznaka\n",
    "tekst=[]\n",
    "oznake=[]\n",
    "for linija in linije_teksta:\n",
    "    try:\n",
    "        linija_l=linija.split('\\t')\n",
    "        oznake.append(linija_l[1].rstrip())\n",
    "        tekst.append(linija_l[0])\n",
    "    except:\n",
    "        continue"
   ]
  },
  {
   "cell_type": "code",
   "execution_count": 55,
   "id": "5f21b8d9",
   "metadata": {},
   "outputs": [
    {
     "name": "stdout",
     "output_type": "stream",
     "text": [
      "{'pozitivno', 'neutralno', 'negativno'}\n"
     ]
    }
   ],
   "source": [
    "oznake=[x if x != \"p\" else \"pozitivno\" for x in oznake]\n",
    "print(set(oznake))"
   ]
  },
  {
   "cell_type": "code",
   "execution_count": 56,
   "id": "aee07df0",
   "metadata": {},
   "outputs": [
    {
     "data": {
      "text/plain": [
       "oznake\n",
       "neutralno    2709\n",
       "pozitivno     364\n",
       "negativno      84\n",
       "Name: count, dtype: int64"
      ]
     },
     "execution_count": 56,
     "metadata": {},
     "output_type": "execute_result"
    }
   ],
   "source": [
    "import pandas as pd\n",
    "\n",
    "df = pd.DataFrame({\"tekst\": tekst, \"oznake\": oznake})\n",
    "df[\"oznake\"].value_counts()"
   ]
  },
  {
   "cell_type": "code",
   "execution_count": 70,
   "id": "75efc9ec",
   "metadata": {},
   "outputs": [
    {
     "name": "stdout",
     "output_type": "stream",
     "text": [
      "[0 1 2]\n",
      "[1 1 1 1 1 0 1 1 1 1 0 2 1 0 1 1 1 1 1 1]\n"
     ]
    }
   ],
   "source": [
    "# from sklearn.preprocessing import LabelEncoder\n",
    "le = LabelEncoder()\n",
    "le.fit(oznake)\n",
    "print(le.classes_)\n",
    "oznake = le.transform(oznake)\n",
    "print(oznake[:20])"
   ]
  },
  {
   "cell_type": "markdown",
   "id": "89103b65",
   "metadata": {},
   "source": [
    "## Treniranje modela"
   ]
  },
  {
   "cell_type": "code",
   "execution_count": 108,
   "id": "b888e7ab",
   "metadata": {},
   "outputs": [],
   "source": [
    "from sklearn.feature_extraction.text import TfidfVectorizer\n",
    "from sklearn.model_selection import train_test_split\n",
    "from sklearn.metrics import accuracy_score, f1_score\n",
    "\n",
    "# Split the data into train and test sets\n",
    "X_train, X_test, Y_train, Y_test = train_test_split(\n",
    "    tekst, oznake, test_size=0.3, random_state=42, stratify=oznake)\n",
    "\n",
    "# Convert text data into numerical features using TF-IDF\n",
    "vectorizer = TfidfVectorizer()\n",
    "X_train = vectorizer.fit_transform(X_train)\n",
    "X_test = vectorizer.transform(X_test)"
   ]
  },
  {
   "cell_type": "markdown",
   "id": "6ba9c28b",
   "metadata": {},
   "source": [
    "## XGBoost"
   ]
  },
  {
   "cell_type": "code",
   "execution_count": 109,
   "id": "db33dde0",
   "metadata": {},
   "outputs": [],
   "source": [
    "import xgboost as xgb\n",
    "\n",
    "# Train the XGBoost model\n",
    "model = xgb.XGBClassifier(n_jobs=-1)\n",
    "model.fit(X_train, Y_train)\n",
    "\n",
    "# Make predictions on the test set\n",
    "pred = model.predict(X_test)"
   ]
  },
  {
   "cell_type": "code",
   "execution_count": 110,
   "id": "141c8cf9",
   "metadata": {},
   "outputs": [
    {
     "name": "stdout",
     "output_type": "stream",
     "text": [
      "Točnost: 86.39%\n",
      "F1: 39.68%\n"
     ]
    }
   ],
   "source": [
    "# Evaluate the model performance\n",
    "točnost = accuracy_score(Y_test, pred)\n",
    "print(\"Točnost: {:.2f}%\".format(točnost * 100))\n",
    "f1 = f1_score(Y_test, pred, average='macro')\n",
    "print(\"F1: {:.2f}%\".format(f1 * 100))"
   ]
  },
  {
   "cell_type": "markdown",
   "id": "0369a8c2",
   "metadata": {},
   "source": [
    "### Predviđanje"
   ]
  },
  {
   "cell_type": "code",
   "execution_count": 114,
   "id": "c3bdbff0",
   "metadata": {},
   "outputs": [
    {
     "data": {
      "text/plain": [
       "array([1, 1])"
      ]
     },
     "execution_count": 114,
     "metadata": {},
     "output_type": "execute_result"
    }
   ],
   "source": [
    "rečenice=[\"Volim kavu\", \"Mrzim kavu\"]\n",
    "X_vektori=vectorizer.transform(rečenice)\n",
    "pred=model.predict(X_vektori)\n",
    "le.inverse_transform(pred)"
   ]
  },
  {
   "cell_type": "markdown",
   "id": "900b531c",
   "metadata": {},
   "source": [
    "## Pohrana modela"
   ]
  },
  {
   "cell_type": "code",
   "execution_count": 83,
   "id": "4f44f695",
   "metadata": {},
   "outputs": [
    {
     "data": {
      "text/plain": [
       "array([1, 1])"
      ]
     },
     "execution_count": 83,
     "metadata": {},
     "output_type": "execute_result"
    }
   ],
   "source": [
    "import pickle\n",
    "import xgboost as xgb\n",
    "from sklearn.feature_extraction.text import TfidfVectorizer\n",
    "\n",
    "model_file_name = \"xgb_reg.pkl\"\n",
    "vectorizer_file_name = 'vectorizer.pk'\n",
    "\n",
    "# save\n",
    "pickle.dump(model, open(model_file_name, \"wb\"))\n",
    "with open(vectorizer_file_name, 'wb') as fin:\n",
    "    pickle.dump(vectorizer, fin)\n",
    "\n",
    "# load\n",
    "xgb_model_učitano = pickle.load(open(model_file_name, \"rb\"))\n",
    "vectorizer_učitano = pickle.load(open(vectorizer_file_name, \"rb\"))\n",
    "\n",
    "# predict\n",
    "pred_učitano = xgb_model_učitano.predict(\n",
    "    vectorizer_učitano.transform(rečenice))\n",
    "le.inverse_transform(pred_učitano)"
   ]
  },
  {
   "cell_type": "markdown",
   "id": "9978a113",
   "metadata": {},
   "source": [
    "## SVM"
   ]
  },
  {
   "cell_type": "code",
   "execution_count": 169,
   "id": "cf4167fa",
   "metadata": {},
   "outputs": [],
   "source": [
    "from sklearn import svm\n",
    "model=svm.SVC(kernel=\"linear\", C=2)\n",
    "model.fit(X_train, Y_train)\n",
    "\n",
    "pred=model.predict(X_test)"
   ]
  },
  {
   "cell_type": "code",
   "execution_count": 170,
   "id": "00af58f8",
   "metadata": {},
   "outputs": [
    {
     "name": "stdout",
     "output_type": "stream",
     "text": [
      "Točnost: 86.08%\n",
      "F1: 40.19%\n"
     ]
    }
   ],
   "source": [
    "točnost = accuracy_score(Y_test, pred)\n",
    "print(\"Točnost: {:.2f}%\".format(točnost * 100))\n",
    "f1 = f1_score(Y_test, pred, average='macro')\n",
    "print(\"F1: {:.2f}%\".format(f1 * 100))"
   ]
  },
  {
   "cell_type": "markdown",
   "id": "48a51378",
   "metadata": {},
   "source": [
    "## Predviđanje"
   ]
  },
  {
   "cell_type": "code",
   "execution_count": 171,
   "id": "88db1ac7",
   "metadata": {},
   "outputs": [
    {
     "data": {
      "text/plain": [
       "array([1, 1])"
      ]
     },
     "execution_count": 171,
     "metadata": {},
     "output_type": "execute_result"
    }
   ],
   "source": [
    "rečenice=[\"Volim kavu\", \"Ne volim kavu\"]\n",
    "X_vektori=vectorizer.transform(rečenice)\n",
    "pred=model.predict(X_vektori)\n",
    "le.inverse_transform(pred)"
   ]
  },
  {
   "cell_type": "markdown",
   "id": "a87649df",
   "metadata": {},
   "source": [
    "## KNN"
   ]
  },
  {
   "cell_type": "code",
   "execution_count": 196,
   "id": "db80992e",
   "metadata": {},
   "outputs": [],
   "source": [
    "from sklearn.neighbors import KNeighborsClassifier\n",
    "model=KNeighborsClassifier(n_neighbors=4)\n",
    "model.fit(X_train, Y_train)\n",
    "\n",
    "pred=model.predict(X_test)"
   ]
  },
  {
   "cell_type": "code",
   "execution_count": 197,
   "id": "0a5ab23e",
   "metadata": {},
   "outputs": [
    {
     "name": "stdout",
     "output_type": "stream",
     "text": [
      "Točnost: 85.86%\n",
      "F1: 35.46%\n"
     ]
    }
   ],
   "source": [
    "točnost = accuracy_score(Y_test, pred)\n",
    "print(\"Točnost: {:.2f}%\".format(točnost * 100))\n",
    "f1 = f1_score(Y_test, pred, average='macro')\n",
    "print(\"F1: {:.2f}%\".format(f1 * 100))"
   ]
  },
  {
   "cell_type": "markdown",
   "id": "78ed5484",
   "metadata": {},
   "source": [
    "### Predviđanje"
   ]
  },
  {
   "cell_type": "code",
   "execution_count": 198,
   "id": "f5066920",
   "metadata": {},
   "outputs": [
    {
     "data": {
      "text/plain": [
       "array([1, 1])"
      ]
     },
     "execution_count": 198,
     "metadata": {},
     "output_type": "execute_result"
    }
   ],
   "source": [
    "rečenice=[\"Volim kavu\", \"Ne volim kavu\"]\n",
    "X_vektori=vectorizer.transform(rečenice)\n",
    "pred=model.predict(X_vektori)\n",
    "le.inverse_transform(pred)"
   ]
  }
 ],
 "metadata": {
  "kernelspec": {
   "display_name": "Python 3 (ipykernel)",
   "language": "python",
   "name": "python3"
  },
  "language_info": {
   "codemirror_mode": {
    "name": "ipython",
    "version": 3
   },
   "file_extension": ".py",
   "mimetype": "text/x-python",
   "name": "python",
   "nbconvert_exporter": "python",
   "pygments_lexer": "ipython3",
   "version": "3.10.12"
  }
 },
 "nbformat": 4,
 "nbformat_minor": 5
}
