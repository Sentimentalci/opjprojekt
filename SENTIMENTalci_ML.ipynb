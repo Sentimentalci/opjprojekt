{
  "cells": [
    {
      "cell_type": "code",
      "execution_count": 94,
      "id": "2f0f1f7f",
      "metadata": {
        "id": "2f0f1f7f"
      },
      "outputs": [],
      "source": [
        "#!pip install xgboost"
      ]
    },
    {
      "cell_type": "code",
      "execution_count": 95,
      "id": "6e2c70e2",
      "metadata": {
        "colab": {
          "base_uri": "https://localhost:8080/"
        },
        "id": "6e2c70e2",
        "outputId": "d2ee605a-1d42-4193-d043-201bc9633fb7"
      },
      "outputs": [
        {
          "output_type": "execute_result",
          "data": {
            "text/plain": [
              "True"
            ]
          },
          "metadata": {},
          "execution_count": 95
        }
      ],
      "source": [
        "with open(\"/content/drive/MyDrive/Knjiga.tsv\", encoding=\"utf8\") as dat:\n",
        "    linije_teksta=dat.readlines()\n",
        "dat.closed\n",
        "dat.closed\n",
        "dat.closed"
      ]
    },
    {
      "cell_type": "code",
      "execution_count": 96,
      "id": "1I7yZKeSYSgI",
      "metadata": {
        "id": "1I7yZKeSYSgI"
      },
      "outputs": [],
      "source": [
        "##from google.colab import drive\n",
        "##drive.mount('/content/drive')"
      ]
    },
    {
      "cell_type": "code",
      "execution_count": 97,
      "id": "24385451",
      "metadata": {
        "id": "24385451"
      },
      "outputs": [],
      "source": [
        "## razdvajanje teksta od oznaka\n",
        "tekst=[]\n",
        "oznake=[]\n",
        "for linija in linije_teksta:\n",
        "    try:\n",
        "        linija_l=linija.split('\\t')\n",
        "        oznake.append(linija_l[1].rstrip())\n",
        "        tekst.append(linija_l[0])\n",
        "    except:\n",
        "        continue"
      ]
    },
    {
      "cell_type": "code",
      "execution_count": 98,
      "id": "5f21b8d9",
      "metadata": {
        "colab": {
          "base_uri": "https://localhost:8080/"
        },
        "id": "5f21b8d9",
        "outputId": "0dc821e5-0f17-4111-b584-1448ca4d5a08"
      },
      "outputs": [
        {
          "output_type": "stream",
          "name": "stdout",
          "text": [
            "{'pozitivno', 'negativno', 'neutralno'}\n"
          ]
        }
      ],
      "source": [
        "oznake=[x if x != \"p\" else \"pozitivno\" for x in oznake]\n",
        "print(set(oznake))"
      ]
    },
    {
      "cell_type": "code",
      "execution_count": 99,
      "id": "aee07df0",
      "metadata": {
        "colab": {
          "base_uri": "https://localhost:8080/"
        },
        "id": "aee07df0",
        "outputId": "b88f21fe-9f1c-4309-de2e-fe1496cb9040"
      },
      "outputs": [
        {
          "output_type": "execute_result",
          "data": {
            "text/plain": [
              "oznake\n",
              "neutralno    2709\n",
              "pozitivno     364\n",
              "negativno      84\n",
              "Name: count, dtype: int64"
            ]
          },
          "metadata": {},
          "execution_count": 99
        }
      ],
      "source": [
        "import pandas as pd\n",
        "\n",
        "df = pd.DataFrame({\"tekst\": tekst, \"oznake\": oznake})\n",
        "df[\"oznake\"].value_counts()"
      ]
    },
    {
      "cell_type": "markdown",
      "id": "89103b65",
      "metadata": {
        "id": "89103b65"
      },
      "source": [
        "## Treniranje modela"
      ]
    },
    {
      "cell_type": "code",
      "execution_count": 100,
      "id": "b888e7ab",
      "metadata": {
        "id": "b888e7ab",
        "colab": {
          "base_uri": "https://localhost:8080/"
        },
        "outputId": "e3828c17-4545-4fc9-cb79-02ffbaa1bdaa"
      },
      "outputs": [
        {
          "output_type": "stream",
          "name": "stdout",
          "text": [
            "{'negativno': 0, 'neutralno': 1, 'pozitivno': 2}\n"
          ]
        }
      ],
      "source": [
        "from sklearn.feature_extraction.text import TfidfVectorizer\n",
        "from sklearn.model_selection import train_test_split\n",
        "from sklearn.preprocessing import LabelEncoder\n",
        "from sklearn.preprocessing import StandardScaler\n",
        "\n",
        "vectorizer = TfidfVectorizer()\n",
        "tekst=vectorizer.fit_transform(tekst)\n",
        "\n",
        "skaliranje = StandardScaler(with_mean=False)\n",
        "tekst=skaliranje.fit_transform(tekst)\n",
        "le = LabelEncoder()\n",
        "le.fit(df[\"oznake\"])\n",
        "print(dict(zip(le.classes_,le.transform(le.classes_))))\n",
        "oznake = le.transform(df[\"oznake\"])\n",
        "\n",
        "# Split the data into train and test sets\n",
        "X_train, X_test, Y_train, Y_test = train_test_split(\n",
        "    tekst, oznake, test_size=0.3, random_state=42, stratify=oznake)\n",
        "\n",
        "# Convert text data into numerical features using TF-IDF\n",
        "#vectorizer = TfidfVectorizer()\n",
        "#X_train = vectorizer.fit_transform(X_train)\n",
        "#X_test = vectorizer.transform(X_test)"
      ]
    },
    {
      "cell_type": "markdown",
      "id": "6ba9c28b",
      "metadata": {
        "id": "6ba9c28b"
      },
      "source": [
        "## XGBoost"
      ]
    },
    {
      "cell_type": "code",
      "execution_count": 101,
      "id": "db33dde0",
      "metadata": {
        "id": "db33dde0"
      },
      "outputs": [],
      "source": [
        "import xgboost as xgb\n",
        "\n",
        "# Train the XGBoost model\n",
        "model = xgb.XGBClassifier(n_jobs=-1)\n",
        "model.fit(X_train, Y_train)\n",
        "\n",
        "# Make predictions on the test set\n",
        "pred = model.predict(X_test)"
      ]
    },
    {
      "cell_type": "code",
      "execution_count": 102,
      "id": "141c8cf9",
      "metadata": {
        "colab": {
          "base_uri": "https://localhost:8080/"
        },
        "id": "141c8cf9",
        "outputId": "03efe6b3-eae3-405d-e4bd-cefce9784bbe"
      },
      "outputs": [
        {
          "output_type": "stream",
          "name": "stdout",
          "text": [
            "Točnost: 86.39%\n",
            "F1: 39.70%\n"
          ]
        }
      ],
      "source": [
        "# Evaluate the model performance\n",
        "from sklearn.metrics import accuracy_score, f1_score\n",
        "točnost = accuracy_score(Y_test, pred)\n",
        "print(\"Točnost: {:.2f}%\".format(točnost * 100))\n",
        "f1 = f1_score(Y_test, pred, average='macro')\n",
        "print(\"F1: {:.2f}%\".format(f1 * 100))"
      ]
    },
    {
      "cell_type": "markdown",
      "id": "0369a8c2",
      "metadata": {
        "id": "0369a8c2"
      },
      "source": [
        "### Predviđanje"
      ]
    },
    {
      "cell_type": "code",
      "execution_count": 103,
      "id": "c3bdbff0",
      "metadata": {
        "colab": {
          "base_uri": "https://localhost:8080/"
        },
        "id": "c3bdbff0",
        "outputId": "bf4eccf2-cd5f-4046-922d-04ef7a0beb8b"
      },
      "outputs": [
        {
          "output_type": "execute_result",
          "data": {
            "text/plain": [
              "array(['neutralno', 'neutralno'], dtype=object)"
            ]
          },
          "metadata": {},
          "execution_count": 103
        }
      ],
      "source": [
        "rečenice=[\"Volim kavu\", \"Ne volim kavu\"]\n",
        "X_vektori=vectorizer.transform(rečenice)\n",
        "pred=model.predict(X_vektori)\n",
        "le.inverse_transform(pred)"
      ]
    },
    {
      "cell_type": "markdown",
      "id": "900b531c",
      "metadata": {
        "id": "900b531c"
      },
      "source": [
        "## Pohrana modela"
      ]
    },
    {
      "cell_type": "code",
      "execution_count": 104,
      "id": "4f44f695",
      "metadata": {
        "colab": {
          "base_uri": "https://localhost:8080/"
        },
        "id": "4f44f695",
        "outputId": "9636cbef-bd57-48f4-cc73-a950095533c8"
      },
      "outputs": [
        {
          "output_type": "execute_result",
          "data": {
            "text/plain": [
              "array(['neutralno', 'neutralno'], dtype=object)"
            ]
          },
          "metadata": {},
          "execution_count": 104
        }
      ],
      "source": [
        "import pickle\n",
        "import xgboost as xgb\n",
        "from sklearn.feature_extraction.text import TfidfVectorizer\n",
        "\n",
        "model_file_name = \"xgb_reg.pkl\"\n",
        "vectorizer_file_name = 'vectorizer.pk'\n",
        "\n",
        "# save\n",
        "pickle.dump(model, open(model_file_name, \"wb\"))\n",
        "with open(vectorizer_file_name, 'wb') as fin:\n",
        "    pickle.dump(vectorizer, fin)\n",
        "\n",
        "# load\n",
        "xgb_model_učitano = pickle.load(open(model_file_name, \"rb\"))\n",
        "vectorizer_učitano = pickle.load(open(vectorizer_file_name, \"rb\"))\n",
        "\n",
        "# predict\n",
        "pred_učitano = xgb_model_učitano.predict(\n",
        "    vectorizer_učitano.transform(rečenice))\n",
        "le.inverse_transform(pred_učitano)"
      ]
    },
    {
      "cell_type": "markdown",
      "id": "9978a113",
      "metadata": {
        "id": "9978a113"
      },
      "source": [
        "## SVM"
      ]
    },
    {
      "cell_type": "code",
      "execution_count": 105,
      "id": "cf4167fa",
      "metadata": {
        "id": "cf4167fa"
      },
      "outputs": [],
      "source": [
        "from sklearn import svm\n",
        "model=svm.SVC(kernel=\"linear\", C=2)\n",
        "model.fit(X_train, Y_train)\n",
        "\n",
        "pred=model.predict(X_test)"
      ]
    },
    {
      "cell_type": "code",
      "execution_count": 106,
      "id": "00af58f8",
      "metadata": {
        "colab": {
          "base_uri": "https://localhost:8080/"
        },
        "id": "00af58f8",
        "outputId": "07372624-c71d-4b78-ed78-6549832f4027"
      },
      "outputs": [
        {
          "output_type": "stream",
          "name": "stdout",
          "text": [
            "Točnost: 85.76%\n",
            "F1: 31.38%\n"
          ]
        }
      ],
      "source": [
        "from sklearn.metrics import accuracy_score, f1_score\n",
        "točnost = accuracy_score(Y_test, pred)\n",
        "print(\"Točnost: {:.2f}%\".format(točnost * 100))\n",
        "f1 = f1_score(Y_test, pred, average='macro')\n",
        "print(\"F1: {:.2f}%\".format(f1 * 100))"
      ]
    },
    {
      "cell_type": "markdown",
      "id": "48a51378",
      "metadata": {
        "id": "48a51378"
      },
      "source": [
        "### Predviđanje"
      ]
    },
    {
      "cell_type": "code",
      "execution_count": 107,
      "id": "88db1ac7",
      "metadata": {
        "colab": {
          "base_uri": "https://localhost:8080/"
        },
        "id": "88db1ac7",
        "outputId": "7297951f-79ea-42c8-90dd-a99393bc6e0b"
      },
      "outputs": [
        {
          "output_type": "execute_result",
          "data": {
            "text/plain": [
              "array(['neutralno', 'neutralno'], dtype=object)"
            ]
          },
          "metadata": {},
          "execution_count": 107
        }
      ],
      "source": [
        "rečenice=[\"Volim kavu\", \"Ne volim kavu\"]\n",
        "X_vektori=vectorizer.transform(rečenice)\n",
        "pred=model.predict(X_vektori)\n",
        "le.inverse_transform(pred)"
      ]
    },
    {
      "cell_type": "markdown",
      "id": "a87649df",
      "metadata": {
        "id": "a87649df"
      },
      "source": [
        "## KNN"
      ]
    },
    {
      "cell_type": "code",
      "execution_count": 108,
      "id": "db80992e",
      "metadata": {
        "id": "db80992e"
      },
      "outputs": [],
      "source": [
        "from sklearn.neighbors import KNeighborsClassifier\n",
        "model=KNeighborsClassifier(n_neighbors=4)\n",
        "model.fit(X_train, Y_train)\n",
        "\n",
        "pred=model.predict(X_test)"
      ]
    },
    {
      "cell_type": "code",
      "execution_count": 109,
      "id": "0a5ab23e",
      "metadata": {
        "colab": {
          "base_uri": "https://localhost:8080/"
        },
        "id": "0a5ab23e",
        "outputId": "5c18987e-e301-41a8-d21f-5c0096b9a4be"
      },
      "outputs": [
        {
          "output_type": "stream",
          "name": "stdout",
          "text": [
            "Točnost: 85.76%\n",
            "F1: 30.78%\n"
          ]
        }
      ],
      "source": [
        "from sklearn.metrics import accuracy_score, f1_score\n",
        "točnost = accuracy_score(Y_test, pred)\n",
        "print(\"Točnost: {:.2f}%\".format(točnost * 100))\n",
        "f1 = f1_score(Y_test, pred, average='macro')\n",
        "print(\"F1: {:.2f}%\".format(f1 * 100))"
      ]
    },
    {
      "cell_type": "markdown",
      "id": "78ed5484",
      "metadata": {
        "id": "78ed5484"
      },
      "source": [
        "### Predviđanje"
      ]
    },
    {
      "cell_type": "code",
      "execution_count": 110,
      "id": "f5066920",
      "metadata": {
        "colab": {
          "base_uri": "https://localhost:8080/"
        },
        "id": "f5066920",
        "outputId": "ae891357-5f15-47e1-b688-506dd9dda206"
      },
      "outputs": [
        {
          "output_type": "execute_result",
          "data": {
            "text/plain": [
              "array(['neutralno', 'neutralno'], dtype=object)"
            ]
          },
          "metadata": {},
          "execution_count": 110
        }
      ],
      "source": [
        "rečenice=[\"Volim kavu\", \"Doria Russell napisala je tri scenarija, od svega na kraju nije bilo ništa.\"]\n",
        "X_vektori=vectorizer.transform(rečenice)\n",
        "pred=model.predict(X_vektori)\n",
        "le.inverse_transform(pred)"
      ]
    },
    {
      "cell_type": "markdown",
      "id": "59dc5681",
      "metadata": {
        "id": "59dc5681"
      },
      "source": [
        "## Naive Bayes"
      ]
    },
    {
      "cell_type": "code",
      "execution_count": 111,
      "id": "b08f0bed",
      "metadata": {
        "id": "b08f0bed"
      },
      "outputs": [],
      "source": [
        "from sklearn.naive_bayes import GaussianNB\n",
        "model=GaussianNB()\n",
        "model.fit(X_train.toarray(), Y_train)\n",
        "\n",
        "pred=model.predict(X_test.toarray())"
      ]
    },
    {
      "cell_type": "code",
      "execution_count": 112,
      "id": "f7d1890d",
      "metadata": {
        "id": "f7d1890d",
        "outputId": "b52b09d9-a12f-485c-8307-4271ad84818a",
        "colab": {
          "base_uri": "https://localhost:8080/"
        }
      },
      "outputs": [
        {
          "output_type": "stream",
          "name": "stdout",
          "text": [
            "Točnost: 76.05%\n",
            "F1: 33.87%\n"
          ]
        }
      ],
      "source": [
        "from sklearn.metrics import accuracy_score, f1_score\n",
        "točnost = accuracy_score(Y_test, pred)\n",
        "print(\"Točnost: {:.2f}%\".format(točnost * 100))\n",
        "f1 = f1_score(Y_test, pred, average='macro')\n",
        "print(\"F1: {:.2f}%\".format(f1 * 100))"
      ]
    },
    {
      "cell_type": "code",
      "execution_count": 113,
      "id": "284791b8",
      "metadata": {
        "id": "284791b8"
      },
      "outputs": [],
      "source": [
        "import tensorflow as tf\n",
        "\n",
        "model=tf.keras.Sequential([\n",
        "    tf.keras.layers.Dense(16, activation=\"relu\"),\n",
        "    tf.keras.layers.Dense(16, activation=\"relu\"),\n",
        "    tf.keras.layers.Dense(1, activation=\"sigmoid\")\n",
        "])"
      ]
    },
    {
      "cell_type": "code",
      "source": [
        "model.compile(optimizer=tf.keras.optimizers.Adam(learning_rate=0.001),\n",
        "              loss=tf.keras.losses.CategoricalCrossentropy(),\n",
        "              metrics=[\"accuracy\"])"
      ],
      "metadata": {
        "id": "fUS7VbIkcdi4"
      },
      "id": "fUS7VbIkcdi4",
      "execution_count": 114,
      "outputs": []
    },
    {
      "cell_type": "code",
      "source": [
        "model.fit(X_train, Y_train, batch_size=32, epochs=20)"
      ],
      "metadata": {
        "colab": {
          "base_uri": "https://localhost:8080/"
        },
        "id": "WYE-iSGKfVf1",
        "outputId": "437e60a0-a19a-4b2c-af51-4de5aec0d8c1"
      },
      "id": "WYE-iSGKfVf1",
      "execution_count": 117,
      "outputs": [
        {
          "output_type": "stream",
          "name": "stdout",
          "text": [
            "Epoch 1/20\n",
            "70/70 [==============================] - 1s 12ms/step - loss: 0.0000e+00 - accuracy: 0.8796\n",
            "Epoch 2/20\n",
            "70/70 [==============================] - 1s 21ms/step - loss: 0.0000e+00 - accuracy: 0.8796\n",
            "Epoch 3/20\n",
            "70/70 [==============================] - 0s 6ms/step - loss: 0.0000e+00 - accuracy: 0.8809\n",
            "Epoch 4/20\n",
            "70/70 [==============================] - 0s 6ms/step - loss: 0.0000e+00 - accuracy: 0.8814\n",
            "Epoch 5/20\n",
            "70/70 [==============================] - 0s 6ms/step - loss: 0.0000e+00 - accuracy: 0.8818\n",
            "Epoch 6/20\n",
            "70/70 [==============================] - 0s 6ms/step - loss: 0.0000e+00 - accuracy: 0.8809\n",
            "Epoch 7/20\n",
            "70/70 [==============================] - 0s 6ms/step - loss: 0.0000e+00 - accuracy: 0.8809\n",
            "Epoch 8/20\n",
            "70/70 [==============================] - 0s 6ms/step - loss: 0.0000e+00 - accuracy: 0.8818\n",
            "Epoch 9/20\n",
            "70/70 [==============================] - 0s 6ms/step - loss: 0.0000e+00 - accuracy: 0.8814\n",
            "Epoch 10/20\n",
            "70/70 [==============================] - 0s 6ms/step - loss: 0.0000e+00 - accuracy: 0.8809\n",
            "Epoch 11/20\n",
            "70/70 [==============================] - 0s 6ms/step - loss: 0.0000e+00 - accuracy: 0.8814\n",
            "Epoch 12/20\n",
            "70/70 [==============================] - 0s 6ms/step - loss: 0.0000e+00 - accuracy: 0.8823\n",
            "Epoch 13/20\n",
            "70/70 [==============================] - 0s 6ms/step - loss: 0.0000e+00 - accuracy: 0.8823\n",
            "Epoch 14/20\n",
            "70/70 [==============================] - 0s 6ms/step - loss: 0.0000e+00 - accuracy: 0.8814\n",
            "Epoch 15/20\n",
            "70/70 [==============================] - 0s 5ms/step - loss: 0.0000e+00 - accuracy: 0.8805\n",
            "Epoch 16/20\n",
            "70/70 [==============================] - 0s 6ms/step - loss: 0.0000e+00 - accuracy: 0.8805\n",
            "Epoch 17/20\n",
            "70/70 [==============================] - 0s 6ms/step - loss: 0.0000e+00 - accuracy: 0.8818\n",
            "Epoch 18/20\n",
            "70/70 [==============================] - 0s 6ms/step - loss: 0.0000e+00 - accuracy: 0.8818\n",
            "Epoch 19/20\n",
            "70/70 [==============================] - 0s 6ms/step - loss: 0.0000e+00 - accuracy: 0.8818\n",
            "Epoch 20/20\n",
            "70/70 [==============================] - 1s 8ms/step - loss: 0.0000e+00 - accuracy: 0.8805\n"
          ]
        },
        {
          "output_type": "execute_result",
          "data": {
            "text/plain": [
              "<keras.src.callbacks.History at 0x7aa572784460>"
            ]
          },
          "metadata": {},
          "execution_count": 117
        }
      ]
    },
    {
      "cell_type": "code",
      "source": [
        "from sklearn.metrics import accuracy_score, f1_score\n",
        "točnost = accuracy_score(Y_test, pred)\n",
        "print(\"Točnost: {:.2f}%\".format(točnost * 100))\n",
        "f1 = f1_score(Y_test, pred, average='macro')\n",
        "print(\"F1: {:.2f}%\".format(f1 * 100))"
      ],
      "metadata": {
        "colab": {
          "base_uri": "https://localhost:8080/"
        },
        "id": "ywEnov9OfsFz",
        "outputId": "e05ad22c-a28c-4a62-993c-41b014b42e95"
      },
      "id": "ywEnov9OfsFz",
      "execution_count": 118,
      "outputs": [
        {
          "output_type": "stream",
          "name": "stdout",
          "text": [
            "Točnost: 76.05%\n",
            "F1: 33.87%\n"
          ]
        }
      ]
    }
  ],
  "metadata": {
    "colab": {
      "provenance": []
    },
    "kernelspec": {
      "display_name": "Python 3 (ipykernel)",
      "language": "python",
      "name": "python3"
    },
    "language_info": {
      "codemirror_mode": {
        "name": "ipython",
        "version": 3
      },
      "file_extension": ".py",
      "mimetype": "text/x-python",
      "name": "python",
      "nbconvert_exporter": "python",
      "pygments_lexer": "ipython3",
      "version": "3.10.12"
    }
  },
  "nbformat": 4,
  "nbformat_minor": 5
}