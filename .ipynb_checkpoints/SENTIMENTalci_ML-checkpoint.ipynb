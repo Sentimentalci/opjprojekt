{
 "cells": [
  {
   "cell_type": "code",
   "execution_count": 5,
   "id": "2f0f1f7f",
   "metadata": {
    "id": "2f0f1f7f"
   },
   "outputs": [],
   "source": [
    "#!pip install xgboost"
   ]
  },
  {
   "cell_type": "code",
   "execution_count": 6,
   "id": "6e2c70e2",
   "metadata": {
    "colab": {
     "base_uri": "https://localhost:8080/"
    },
    "id": "6e2c70e2",
    "outputId": "3d53ff89-ff9f-44c4-9764-d9f626d63806"
   },
   "outputs": [
    {
     "data": {
      "text/plain": [
       "True"
      ]
     },
     "execution_count": 6,
     "metadata": {},
     "output_type": "execute_result"
    }
   ],
   "source": [
    "with open(\"Knjiga.tsv\", encoding=\"utf8\") as dat:\n",
    "    linije_teksta=dat.readlines()\n",
    "dat.closed\n",
    "dat.closed\n",
    "dat.closed"
   ]
  },
  {
   "cell_type": "code",
   "execution_count": 7,
   "id": "1I7yZKeSYSgI",
   "metadata": {
    "id": "1I7yZKeSYSgI"
   },
   "outputs": [],
   "source": [
    "##from google.colab import drive\n",
    "##drive.mount('/content/drive')"
   ]
  },
  {
   "cell_type": "code",
   "execution_count": 8,
   "id": "24385451",
   "metadata": {
    "id": "24385451"
   },
   "outputs": [],
   "source": [
    "## razdvajanje teksta od oznaka\n",
    "tekst=[]\n",
    "oznake=[]\n",
    "for linija in linije_teksta:\n",
    "    try:\n",
    "        linija_l=linija.split('\\t')\n",
    "        oznake.append(linija_l[1].rstrip())\n",
    "        tekst.append(linija_l[0])\n",
    "    except:\n",
    "        continue"
   ]
  },
  {
   "cell_type": "code",
   "execution_count": 9,
   "id": "5f21b8d9",
   "metadata": {
    "colab": {
     "base_uri": "https://localhost:8080/"
    },
    "id": "5f21b8d9",
    "outputId": "97a5122c-4efe-43ac-cecb-0c429aa467ef"
   },
   "outputs": [
    {
     "name": "stdout",
     "output_type": "stream",
     "text": [
      "{'neutralno', 'negativno', 'pozitivno'}\n"
     ]
    }
   ],
   "source": [
    "oznake=[x if x != \"p\" else \"pozitivno\" for x in oznake]\n",
    "print(set(oznake))"
   ]
  },
  {
   "cell_type": "code",
   "execution_count": 10,
   "id": "aee07df0",
   "metadata": {
    "colab": {
     "base_uri": "https://localhost:8080/"
    },
    "id": "aee07df0",
    "outputId": "0cb3e8ac-ecb3-46ad-ba5a-836e3fc205b2"
   },
   "outputs": [
    {
     "data": {
      "text/plain": [
       "oznake\n",
       "neutralno    2709\n",
       "pozitivno     364\n",
       "negativno      84\n",
       "Name: count, dtype: int64"
      ]
     },
     "execution_count": 10,
     "metadata": {},
     "output_type": "execute_result"
    }
   ],
   "source": [
    "import pandas as pd\n",
    "\n",
    "df = pd.DataFrame({\"tekst\": tekst, \"oznake\": oznake})\n",
    "df[\"oznake\"].value_counts()"
   ]
  },
  {
   "cell_type": "code",
   "execution_count": 11,
   "id": "75efc9ec",
   "metadata": {
    "colab": {
     "base_uri": "https://localhost:8080/"
    },
    "id": "75efc9ec",
    "outputId": "fef1562b-61fe-4104-b2fa-565c6bcd6a76"
   },
   "outputs": [
    {
     "name": "stdout",
     "output_type": "stream",
     "text": [
      "{'negativno': 0, 'neutralno': 1, 'pozitivno': 2}\n",
      "[1 1 1 1 1 0 1 1 1 1 0 2 1 0 1 1 1 1 1 1]\n"
     ]
    }
   ],
   "source": [
    "from sklearn.preprocessing import LabelEncoder\n",
    "le = LabelEncoder()\n",
    "le.fit(df[\"oznake\"])\n",
    "print(dict(zip(le.classes_,le.transform(le.classes_))))\n",
    "oznake = le.transform(df[\"oznake\"])\n",
    "print(oznake[:20])"
   ]
  },
  {
   "cell_type": "markdown",
   "id": "89103b65",
   "metadata": {
    "id": "89103b65"
   },
   "source": [
    "## Treniranje modela"
   ]
  },
  {
   "cell_type": "code",
   "execution_count": 12,
   "id": "b888e7ab",
   "metadata": {
    "id": "b888e7ab"
   },
   "outputs": [],
   "source": [
    "from sklearn.feature_extraction.text import TfidfVectorizer\n",
    "from sklearn.model_selection import train_test_split\n",
    "from sklearn.metrics import accuracy_score, f1_score\n",
    "\n",
    "# Split the data into train and test sets\n",
    "X_train, X_test, Y_train, Y_test = train_test_split(\n",
    "    tekst, oznake, test_size=0.3, random_state=42, stratify=oznake)\n",
    "\n",
    "# Convert text data into numerical features using TF-IDF\n",
    "vectorizer = TfidfVectorizer()\n",
    "X_train = vectorizer.fit_transform(X_train)\n",
    "X_test = vectorizer.transform(X_test)"
   ]
  },
  {
   "cell_type": "markdown",
   "id": "6ba9c28b",
   "metadata": {
    "id": "6ba9c28b"
   },
   "source": [
    "## XGBoost"
   ]
  },
  {
   "cell_type": "code",
   "execution_count": 13,
   "id": "db33dde0",
   "metadata": {
    "id": "db33dde0"
   },
   "outputs": [],
   "source": [
    "import xgboost as xgb\n",
    "\n",
    "# Train the XGBoost model\n",
    "model = xgb.XGBClassifier(n_jobs=-1)\n",
    "model.fit(X_train, Y_train)\n",
    "\n",
    "# Make predictions on the test set\n",
    "pred = model.predict(X_test)"
   ]
  },
  {
   "cell_type": "code",
   "execution_count": 14,
   "id": "141c8cf9",
   "metadata": {
    "colab": {
     "base_uri": "https://localhost:8080/"
    },
    "id": "141c8cf9",
    "outputId": "ac75b566-24cc-4e56-be7d-517a0c052b20"
   },
   "outputs": [
    {
     "name": "stdout",
     "output_type": "stream",
     "text": [
      "Točnost: 86.39%\n",
      "F1: 39.68%\n"
     ]
    }
   ],
   "source": [
    "# Evaluate the model performance\n",
    "točnost = accuracy_score(Y_test, pred)\n",
    "print(\"Točnost: {:.2f}%\".format(točnost * 100))\n",
    "f1 = f1_score(Y_test, pred, average='macro')\n",
    "print(\"F1: {:.2f}%\".format(f1 * 100))"
   ]
  },
  {
   "cell_type": "markdown",
   "id": "0369a8c2",
   "metadata": {
    "id": "0369a8c2"
   },
   "source": [
    "### Predviđanje"
   ]
  },
  {
   "cell_type": "code",
   "execution_count": 15,
   "id": "c3bdbff0",
   "metadata": {
    "colab": {
     "base_uri": "https://localhost:8080/"
    },
    "id": "c3bdbff0",
    "outputId": "6c19da5c-79a7-45fc-8540-93cffec80f61"
   },
   "outputs": [
    {
     "data": {
      "text/plain": [
       "array(['neutralno', 'neutralno'], dtype=object)"
      ]
     },
     "execution_count": 15,
     "metadata": {},
     "output_type": "execute_result"
    }
   ],
   "source": [
    "rečenice=[\"Volim kavu\", \"Ne volim kavu\"]\n",
    "X_vektori=vectorizer.transform(rečenice)\n",
    "pred=model.predict(X_vektori)\n",
    "le.inverse_transform(pred)"
   ]
  },
  {
   "cell_type": "markdown",
   "id": "900b531c",
   "metadata": {
    "id": "900b531c"
   },
   "source": [
    "## Pohrana modela"
   ]
  },
  {
   "cell_type": "code",
   "execution_count": 16,
   "id": "4f44f695",
   "metadata": {
    "colab": {
     "base_uri": "https://localhost:8080/"
    },
    "id": "4f44f695",
    "outputId": "3c822cfe-0f6f-4f13-dabd-1001a06e7fe6"
   },
   "outputs": [
    {
     "data": {
      "text/plain": [
       "array(['neutralno', 'neutralno'], dtype=object)"
      ]
     },
     "execution_count": 16,
     "metadata": {},
     "output_type": "execute_result"
    }
   ],
   "source": [
    "import pickle\n",
    "import xgboost as xgb\n",
    "from sklearn.feature_extraction.text import TfidfVectorizer\n",
    "\n",
    "model_file_name = \"xgb_reg.pkl\"\n",
    "vectorizer_file_name = 'vectorizer.pk'\n",
    "\n",
    "# save\n",
    "pickle.dump(model, open(model_file_name, \"wb\"))\n",
    "with open(vectorizer_file_name, 'wb') as fin:\n",
    "    pickle.dump(vectorizer, fin)\n",
    "\n",
    "# load\n",
    "xgb_model_učitano = pickle.load(open(model_file_name, \"rb\"))\n",
    "vectorizer_učitano = pickle.load(open(vectorizer_file_name, \"rb\"))\n",
    "\n",
    "# predict\n",
    "pred_učitano = xgb_model_učitano.predict(\n",
    "    vectorizer_učitano.transform(rečenice))\n",
    "le.inverse_transform(pred_učitano)"
   ]
  },
  {
   "cell_type": "markdown",
   "id": "9978a113",
   "metadata": {
    "id": "9978a113"
   },
   "source": [
    "## SVM"
   ]
  },
  {
   "cell_type": "code",
   "execution_count": 17,
   "id": "cf4167fa",
   "metadata": {
    "id": "cf4167fa"
   },
   "outputs": [],
   "source": [
    "from sklearn import svm\n",
    "model=svm.SVC(kernel=\"linear\", C=2)\n",
    "model.fit(X_train, Y_train)\n",
    "\n",
    "pred=model.predict(X_test)"
   ]
  },
  {
   "cell_type": "code",
   "execution_count": 18,
   "id": "00af58f8",
   "metadata": {
    "colab": {
     "base_uri": "https://localhost:8080/"
    },
    "id": "00af58f8",
    "outputId": "1d65d796-77c2-495a-8c4c-2917588bd63f"
   },
   "outputs": [
    {
     "name": "stdout",
     "output_type": "stream",
     "text": [
      "Točnost: 86.08%\n",
      "F1: 40.19%\n"
     ]
    }
   ],
   "source": [
    "točnost = accuracy_score(Y_test, pred)\n",
    "print(\"Točnost: {:.2f}%\".format(točnost * 100))\n",
    "f1 = f1_score(Y_test, pred, average='macro')\n",
    "print(\"F1: {:.2f}%\".format(f1 * 100))"
   ]
  },
  {
   "cell_type": "markdown",
   "id": "48a51378",
   "metadata": {
    "id": "48a51378"
   },
   "source": [
    "### Predviđanje"
   ]
  },
  {
   "cell_type": "code",
   "execution_count": 19,
   "id": "88db1ac7",
   "metadata": {
    "colab": {
     "base_uri": "https://localhost:8080/"
    },
    "id": "88db1ac7",
    "outputId": "cf981884-3dbd-4398-a908-52ed8fa8e880"
   },
   "outputs": [
    {
     "data": {
      "text/plain": [
       "array(['neutralno', 'neutralno'], dtype=object)"
      ]
     },
     "execution_count": 19,
     "metadata": {},
     "output_type": "execute_result"
    }
   ],
   "source": [
    "rečenice=[\"Volim kavu\", \"Ne volim kavu\"]\n",
    "X_vektori=vectorizer.transform(rečenice)\n",
    "pred=model.predict(X_vektori)\n",
    "le.inverse_transform(pred)"
   ]
  },
  {
   "cell_type": "markdown",
   "id": "a87649df",
   "metadata": {
    "id": "a87649df"
   },
   "source": [
    "## KNN"
   ]
  },
  {
   "cell_type": "code",
   "execution_count": 20,
   "id": "db80992e",
   "metadata": {
    "id": "db80992e"
   },
   "outputs": [],
   "source": [
    "from sklearn.neighbors import KNeighborsClassifier\n",
    "model=KNeighborsClassifier(n_neighbors=4)\n",
    "model.fit(X_train, Y_train)\n",
    "\n",
    "pred=model.predict(X_test)"
   ]
  },
  {
   "cell_type": "code",
   "execution_count": 21,
   "id": "0a5ab23e",
   "metadata": {
    "colab": {
     "base_uri": "https://localhost:8080/"
    },
    "id": "0a5ab23e",
    "outputId": "f53515f6-b104-4b2e-8f86-f618b44dfd4d"
   },
   "outputs": [
    {
     "name": "stdout",
     "output_type": "stream",
     "text": [
      "Točnost: 85.86%\n",
      "F1: 35.46%\n"
     ]
    }
   ],
   "source": [
    "točnost = accuracy_score(Y_test, pred)\n",
    "print(\"Točnost: {:.2f}%\".format(točnost * 100))\n",
    "f1 = f1_score(Y_test, pred, average='macro')\n",
    "print(\"F1: {:.2f}%\".format(f1 * 100))"
   ]
  },
  {
   "cell_type": "markdown",
   "id": "78ed5484",
   "metadata": {
    "id": "78ed5484"
   },
   "source": [
    "### Predviđanje"
   ]
  },
  {
   "cell_type": "code",
   "execution_count": 22,
   "id": "f5066920",
   "metadata": {
    "colab": {
     "base_uri": "https://localhost:8080/"
    },
    "id": "f5066920",
    "outputId": "dc6402c6-b09e-4fda-dfb7-2acdc6293f56"
   },
   "outputs": [
    {
     "data": {
      "text/plain": [
       "array(['neutralno', 'neutralno'], dtype=object)"
      ]
     },
     "execution_count": 22,
     "metadata": {},
     "output_type": "execute_result"
    }
   ],
   "source": [
    "rečenice=[\"Volim kavu\", \"Doria Russell napisala je tri scenarija, od svega na kraju nije bilo ništa.\"]\n",
    "X_vektori=vectorizer.transform(rečenice)\n",
    "pred=model.predict(X_vektori)\n",
    "le.inverse_transform(pred)"
   ]
  },
  {
   "cell_type": "markdown",
   "id": "59dc5681",
   "metadata": {},
   "source": [
    "## Naive Bayes"
   ]
  },
  {
   "cell_type": "code",
   "execution_count": 26,
   "id": "b08f0bed",
   "metadata": {},
   "outputs": [],
   "source": [
    "from sklearn.naive_bayes import GaussianNB\n",
    "model=GaussianNB()\n",
    "model.fit(X_train.toarray(), Y_train)\n",
    "\n",
    "pred=model.predict(X_test.toarray())"
   ]
  },
  {
   "cell_type": "code",
   "execution_count": 27,
   "id": "f7d1890d",
   "metadata": {},
   "outputs": [
    {
     "name": "stdout",
     "output_type": "stream",
     "text": [
      "Točnost: 77.64%\n",
      "F1: 32.72%\n"
     ]
    }
   ],
   "source": [
    "točnost = accuracy_score(Y_test, pred)\n",
    "print(\"Točnost: {:.2f}%\".format(točnost * 100))\n",
    "f1 = f1_score(Y_test, pred, average='macro')\n",
    "print(\"F1: {:.2f}%\".format(f1 * 100))"
   ]
  },
  {
   "cell_type": "code",
   "execution_count": 30,
   "id": "284791b8",
   "metadata": {},
   "outputs": [
    {
     "name": "stderr",
     "output_type": "stream",
     "text": [
      "2024-05-21 20:31:38.622494: I external/local_tsl/tsl/cuda/cudart_stub.cc:31] Could not find cuda drivers on your machine, GPU will not be used.\n",
      "2024-05-21 20:31:38.914191: E external/local_xla/xla/stream_executor/cuda/cuda_dnn.cc:9261] Unable to register cuDNN factory: Attempting to register factory for plugin cuDNN when one has already been registered\n",
      "2024-05-21 20:31:38.914253: E external/local_xla/xla/stream_executor/cuda/cuda_fft.cc:607] Unable to register cuFFT factory: Attempting to register factory for plugin cuFFT when one has already been registered\n",
      "2024-05-21 20:31:38.969404: E external/local_xla/xla/stream_executor/cuda/cuda_blas.cc:1515] Unable to register cuBLAS factory: Attempting to register factory for plugin cuBLAS when one has already been registered\n",
      "2024-05-21 20:31:39.089205: I external/local_tsl/tsl/cuda/cudart_stub.cc:31] Could not find cuda drivers on your machine, GPU will not be used.\n",
      "2024-05-21 20:31:39.090848: I tensorflow/core/platform/cpu_feature_guard.cc:182] This TensorFlow binary is optimized to use available CPU instructions in performance-critical operations.\n",
      "To enable the following instructions: AVX2 FMA, in other operations, rebuild TensorFlow with the appropriate compiler flags.\n",
      "2024-05-21 20:31:39.914626: W tensorflow/compiler/tf2tensorrt/utils/py_utils.cc:38] TF-TRT Warning: Could not find TensorRT\n"
     ]
    }
   ],
   "source": [
    "import tensorflow as tf\n",
    "\n",
    "model=tf.keras.Sequential([\n",
    "    tf.keras.layers.Dense(16, activation=\"relu\"),\n",
    "    tf.keras.layers.Dense(16, activation=\"relu\"),\n",
    "    tf.keras.layers.Dense(1, activation=\"sigmoid\")\n",
    "])"
   ]
  }
 ],
 "metadata": {
  "colab": {
   "provenance": []
  },
  "kernelspec": {
   "display_name": "Python 3 (ipykernel)",
   "language": "python",
   "name": "python3"
  },
  "language_info": {
   "codemirror_mode": {
    "name": "ipython",
    "version": 3
   },
   "file_extension": ".py",
   "mimetype": "text/x-python",
   "name": "python",
   "nbconvert_exporter": "python",
   "pygments_lexer": "ipython3",
   "version": "3.10.12"
  }
 },
 "nbformat": 4,
 "nbformat_minor": 5
}
