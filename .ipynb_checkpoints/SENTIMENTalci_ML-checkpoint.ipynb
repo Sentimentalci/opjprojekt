{
 "cells": [
  {
   "cell_type": "code",
   "execution_count": 1,
   "id": "2f0f1f7f",
   "metadata": {
    "id": "2f0f1f7f"
   },
   "outputs": [],
   "source": [
    "#!pip install xgboost"
   ]
  },
  {
   "cell_type": "code",
   "execution_count": 2,
   "id": "6e2c70e2",
   "metadata": {
    "colab": {
     "base_uri": "https://localhost:8080/"
    },
    "id": "6e2c70e2",
    "outputId": "d2ee605a-1d42-4193-d043-201bc9633fb7"
   },
   "outputs": [],
   "source": [
    "##from google.colab import drive\n",
    "##drive.mount('/content/drive')\n",
    "##with open(\"/content/drive/MyDrive/Knjiga.tsv\", encoding=\"utf8\") as dat:\n",
    "##    linije_teksta=dat.readlines()\n",
    "##dat.closed\n",
    "##dat.closed\n",
    "##dat.closed"
   ]
  },
  {
   "cell_type": "code",
   "execution_count": 7,
   "id": "1I7yZKeSYSgI",
   "metadata": {
    "id": "1I7yZKeSYSgI"
   },
   "outputs": [
    {
     "data": {
      "text/plain": [
       "True"
      ]
     },
     "execution_count": 7,
     "metadata": {},
     "output_type": "execute_result"
    }
   ],
   "source": [
    "with open(\"Knjiga.tsv\", encoding=\"utf8\") as dat:\n",
    "    linije_teksta=dat.readlines()\n",
    "dat.closed\n",
    "dat.closed\n",
    "dat.closed"
   ]
  },
  {
   "cell_type": "code",
   "execution_count": 8,
   "id": "24385451",
   "metadata": {
    "id": "24385451"
   },
   "outputs": [],
   "source": [
    "## razdvajanje teksta od oznaka\n",
    "tekst=[]\n",
    "oznake=[]\n",
    "for linija in linije_teksta:\n",
    "    try:\n",
    "        linija_l=linija.split('\\t')\n",
    "        oznake.append(linija_l[1].rstrip())\n",
    "        tekst.append(linija_l[0])\n",
    "    except:\n",
    "        continue"
   ]
  },
  {
   "cell_type": "code",
   "execution_count": 9,
   "id": "5f21b8d9",
   "metadata": {
    "colab": {
     "base_uri": "https://localhost:8080/"
    },
    "id": "5f21b8d9",
    "outputId": "0dc821e5-0f17-4111-b584-1448ca4d5a08"
   },
   "outputs": [
    {
     "name": "stdout",
     "output_type": "stream",
     "text": [
      "{'pozitivno', 'negativno', 'neutralno'}\n"
     ]
    }
   ],
   "source": [
    "oznake=[x if x != \"p\" else \"pozitivno\" for x in oznake]\n",
    "print(set(oznake))"
   ]
  },
  {
   "cell_type": "code",
   "execution_count": 10,
   "id": "aee07df0",
   "metadata": {
    "colab": {
     "base_uri": "https://localhost:8080/"
    },
    "id": "aee07df0",
    "outputId": "b88f21fe-9f1c-4309-de2e-fe1496cb9040"
   },
   "outputs": [
    {
     "data": {
      "text/plain": [
       "oznake\n",
       "neutralno    2709\n",
       "pozitivno     364\n",
       "negativno      84\n",
       "Name: count, dtype: int64"
      ]
     },
     "execution_count": 10,
     "metadata": {},
     "output_type": "execute_result"
    }
   ],
   "source": [
    "import pandas as pd\n",
    "\n",
    "df = pd.DataFrame({\"tekst\": tekst, \"oznake\": oznake})\n",
    "df[\"oznake\"].value_counts()"
   ]
  },
  {
   "cell_type": "markdown",
   "id": "89103b65",
   "metadata": {
    "id": "89103b65"
   },
   "source": [
    "## Treniranje modela"
   ]
  },
  {
   "cell_type": "code",
   "execution_count": 11,
   "id": "b888e7ab",
   "metadata": {
    "colab": {
     "base_uri": "https://localhost:8080/"
    },
    "id": "b888e7ab",
    "outputId": "e3828c17-4545-4fc9-cb79-02ffbaa1bdaa"
   },
   "outputs": [
    {
     "name": "stdout",
     "output_type": "stream",
     "text": [
      "{'negativno': 0, 'neutralno': 1, 'pozitivno': 2}\n"
     ]
    }
   ],
   "source": [
    "from sklearn.feature_extraction.text import TfidfVectorizer\n",
    "from sklearn.model_selection import train_test_split\n",
    "from sklearn.preprocessing import LabelEncoder\n",
    "from sklearn.preprocessing import StandardScaler\n",
    "\n",
    "# kopirano s https://dabar.srce.hr/faq-page/254 bez vrlo\n",
    "hr_stop_rijeci=['a','ako','ali','bi','bih','bila','bili','bilo','bio',\n",
    "                'bismo','biste','biti','bumo','da','do','duž','ga',\n",
    "                'hoće','hoćemo','hoćete','hoćeš','hoću','i','iako',\n",
    "                'ih','ili','iz','ja','je','jedna','jedne','jedno',\n",
    "                'jer','jesam','jesi','jesmo','jest','jeste','jesu',\n",
    "                'jim','joj','još','ju','kada','kako','kao','koja',\n",
    "                'koje','koji','kojima','koju','kroz','li','me','mene',\n",
    "                'meni','mi','mimo','moj','moja','moje','mu','na','nad',\n",
    "                'nakon','nam','nama','nas','naš','naša','naše','našeg',\n",
    "                'ne','nego','neka','neki','nekog','neku','nema','netko',\n",
    "                'neće','nećemo','nećete','nećeš','neću','nešto','ni',\n",
    "                'nije','nikoga','nikoje','nikoju','nisam','nisi',\n",
    "                'nismo','niste','nisu','njega','njegov','njegova',\n",
    "                'njegovo','njemu','njezin','njezina','njezino','njih',\n",
    "                'njihov','njihova','njihovo','njim','njima','njoj','nju',\n",
    "                'no','o','od','odmah','on','ona','oni','ono','ova','pa',\n",
    "                'pak','po','pod','pored','prije','s','sa','sam','samo',\n",
    "                'se','sebe','sebi','si','smo','ste','su','sve','svi',\n",
    "                'svog','svoj','svoja','svoje','svom','ta','tada','taj',\n",
    "                'tako','te','tebe','tebi','ti','to','toj','tome','tu',\n",
    "                'tvoj','tvoja','tvoje','u','uz','vam','vama','vas','vaš',\n",
    "                'vaša','vaše','već','vi','za','zar','će','ćemo','ćete',\n",
    "                'ćeš','ću','što']\n",
    "\n",
    "le = LabelEncoder()\n",
    "le.fit(df[\"oznake\"])\n",
    "print(dict(zip(le.classes_,le.transform(le.classes_))))\n",
    "oznake = le.transform(df[\"oznake\"])\n",
    "\n",
    "# Split the data into train and test sets\n",
    "tekst_train, tekst_test, Y_train, Y_test = train_test_split(\n",
    "    tekst, oznake, test_size=0.3, random_state=42, stratify=oznake)\n",
    "\n",
    "# Convert text data into numerical features using TF-IDF\n",
    "vectorizer = TfidfVectorizer(encoding=\"utf8\", lowercase=True, analyzer=\"word\",\n",
    "                             stop_words=hr_stop_rijeci)\n",
    "\n",
    "skaliranje = StandardScaler(with_mean=False)\n",
    "X_train=vectorizer.fit_transform(tekst_train)\n",
    "X_test=vectorizer.transform(tekst_test)"
   ]
  },
  {
   "cell_type": "markdown",
   "id": "6ba9c28b",
   "metadata": {
    "id": "6ba9c28b"
   },
   "source": [
    "## XGBoost"
   ]
  },
  {
   "cell_type": "code",
   "execution_count": 12,
   "id": "db33dde0",
   "metadata": {
    "id": "db33dde0"
   },
   "outputs": [],
   "source": [
    "import xgboost as xgb\n",
    "\n",
    "# Train the XGBoost model\n",
    "model = xgb.XGBClassifier()\n",
    "model.fit(X_train, Y_train)\n",
    "\n",
    "# Make predictions on the test set\n",
    "pred_xg = model.predict(X_test)"
   ]
  },
  {
   "cell_type": "code",
   "execution_count": 13,
   "id": "141c8cf9",
   "metadata": {
    "colab": {
     "base_uri": "https://localhost:8080/"
    },
    "id": "141c8cf9",
    "outputId": "03efe6b3-eae3-405d-e4bd-cefce9784bbe"
   },
   "outputs": [
    {
     "name": "stdout",
     "output_type": "stream",
     "text": [
      "Točnost: 86.08%\n",
      "F1: 40.27%\n"
     ]
    }
   ],
   "source": [
    "# Evaluate the model performance\n",
    "from sklearn.metrics import accuracy_score, f1_score\n",
    "točnost = accuracy_score(Y_test, pred_xg)\n",
    "print(\"Točnost: {:.2f}%\".format(točnost * 100))\n",
    "f1 = f1_score(Y_test, pred_xg, average='macro')\n",
    "print(\"F1: {:.2f}%\".format(f1 * 100))"
   ]
  },
  {
   "cell_type": "markdown",
   "id": "0369a8c2",
   "metadata": {
    "id": "0369a8c2"
   },
   "source": [
    "### Predviđanje"
   ]
  },
  {
   "cell_type": "code",
   "execution_count": 10,
   "id": "c3bdbff0",
   "metadata": {
    "colab": {
     "base_uri": "https://localhost:8080/"
    },
    "id": "c3bdbff0",
    "outputId": "bf4eccf2-cd5f-4046-922d-04ef7a0beb8b"
   },
   "outputs": [
    {
     "data": {
      "text/plain": [
       "array(['neutralno', 'neutralno'], dtype=object)"
      ]
     },
     "execution_count": 10,
     "metadata": {},
     "output_type": "execute_result"
    }
   ],
   "source": [
    "rečenice=[\"Volim kavu\", \"Ne volim kavu\"]\n",
    "X_vektori=vectorizer.transform(rečenice)\n",
    "pred=model.predict(X_vektori)\n",
    "le.inverse_transform(pred)"
   ]
  },
  {
   "cell_type": "markdown",
   "id": "900b531c",
   "metadata": {
    "id": "900b531c"
   },
   "source": [
    "## Pohrana modela"
   ]
  },
  {
   "cell_type": "code",
   "execution_count": 11,
   "id": "4f44f695",
   "metadata": {
    "colab": {
     "base_uri": "https://localhost:8080/"
    },
    "id": "4f44f695",
    "outputId": "9636cbef-bd57-48f4-cc73-a950095533c8"
   },
   "outputs": [
    {
     "data": {
      "text/plain": [
       "array(['neutralno', 'neutralno'], dtype=object)"
      ]
     },
     "execution_count": 11,
     "metadata": {},
     "output_type": "execute_result"
    }
   ],
   "source": [
    "import pickle\n",
    "import xgboost as xgb\n",
    "from sklearn.feature_extraction.text import TfidfVectorizer\n",
    "\n",
    "model_file_name = \"xgb_reg.pkl\"\n",
    "vectorizer_file_name = 'vectorizer.pk'\n",
    "\n",
    "# save\n",
    "pickle.dump(model, open(model_file_name, \"wb\"))\n",
    "with open(vectorizer_file_name, 'wb') as fin:\n",
    "    pickle.dump(vectorizer, fin)\n",
    "\n",
    "# load\n",
    "xgb_model_učitano = pickle.load(open(model_file_name, \"rb\"))\n",
    "vectorizer_učitano = pickle.load(open(vectorizer_file_name, \"rb\"))\n",
    "\n",
    "# predict\n",
    "pred_učitano = xgb_model_učitano.predict(\n",
    "    vectorizer_učitano.transform(rečenice))\n",
    "le.inverse_transform(pred_učitano)"
   ]
  },
  {
   "cell_type": "markdown",
   "id": "9978a113",
   "metadata": {
    "id": "9978a113"
   },
   "source": [
    "## SVM"
   ]
  },
  {
   "cell_type": "code",
   "execution_count": 12,
   "id": "c05b2c6b",
   "metadata": {},
   "outputs": [],
   "source": [
    "#sigmoid, C=4 => 86.08%, 33,19%\n",
    "#linear, C=2 => 85.65%, 30.76%\n",
    "#poly, C=2 => 85.86%, 30.80%"
   ]
  },
  {
   "cell_type": "code",
   "execution_count": 13,
   "id": "cf4167fa",
   "metadata": {
    "id": "cf4167fa"
   },
   "outputs": [],
   "source": [
    "from sklearn import svm\n",
    "model=svm.SVC(kernel=\"sigmoid\", C=4)\n",
    "model.fit(X_train, Y_train)\n",
    "\n",
    "pred=model.predict(X_test)"
   ]
  },
  {
   "cell_type": "code",
   "execution_count": 14,
   "id": "00af58f8",
   "metadata": {
    "colab": {
     "base_uri": "https://localhost:8080/"
    },
    "id": "00af58f8",
    "outputId": "07372624-c71d-4b78-ed78-6549832f4027"
   },
   "outputs": [
    {
     "name": "stdout",
     "output_type": "stream",
     "text": [
      "Točnost: 86.18%\n",
      "F1: 33.19%\n"
     ]
    }
   ],
   "source": [
    "from sklearn.metrics import accuracy_score, f1_score\n",
    "točnost = accuracy_score(Y_test, pred)\n",
    "print(\"Točnost: {:.2f}%\".format(točnost * 100))\n",
    "f1 = f1_score(Y_test, pred, average='macro')\n",
    "print(\"F1: {:.2f}%\".format(f1 * 100))"
   ]
  },
  {
   "cell_type": "markdown",
   "id": "48a51378",
   "metadata": {
    "id": "48a51378"
   },
   "source": [
    "### Predviđanje"
   ]
  },
  {
   "cell_type": "code",
   "execution_count": 15,
   "id": "88db1ac7",
   "metadata": {
    "colab": {
     "base_uri": "https://localhost:8080/"
    },
    "id": "88db1ac7",
    "outputId": "7297951f-79ea-42c8-90dd-a99393bc6e0b"
   },
   "outputs": [
    {
     "data": {
      "text/plain": [
       "array(['neutralno', 'neutralno'], dtype=object)"
      ]
     },
     "execution_count": 15,
     "metadata": {},
     "output_type": "execute_result"
    }
   ],
   "source": [
    "rečenice=[\"Volim kavu\", \"Ne volim kavu\"]\n",
    "X_vektori=vectorizer.transform(rečenice)\n",
    "pred=model.predict(X_vektori)\n",
    "le.inverse_transform(pred)"
   ]
  },
  {
   "cell_type": "markdown",
   "id": "a87649df",
   "metadata": {
    "id": "a87649df"
   },
   "source": [
    "## KNN"
   ]
  },
  {
   "cell_type": "code",
   "execution_count": 16,
   "id": "db80992e",
   "metadata": {
    "id": "db80992e"
   },
   "outputs": [],
   "source": [
    "from sklearn.neighbors import KNeighborsClassifier\n",
    "model=KNeighborsClassifier(n_neighbors=4)\n",
    "model.fit(X_train, Y_train)\n",
    "\n",
    "pred=model.predict(X_test)"
   ]
  },
  {
   "cell_type": "code",
   "execution_count": 17,
   "id": "0a5ab23e",
   "metadata": {
    "colab": {
     "base_uri": "https://localhost:8080/"
    },
    "id": "0a5ab23e",
    "outputId": "5c18987e-e301-41a8-d21f-5c0096b9a4be"
   },
   "outputs": [
    {
     "name": "stdout",
     "output_type": "stream",
     "text": [
      "Točnost: 85.86%\n",
      "F1: 30.80%\n"
     ]
    }
   ],
   "source": [
    "from sklearn.metrics import accuracy_score, f1_score\n",
    "točnost = accuracy_score(Y_test, pred)\n",
    "print(\"Točnost: {:.2f}%\".format(točnost * 100))\n",
    "f1 = f1_score(Y_test, pred, average='macro')\n",
    "print(\"F1: {:.2f}%\".format(f1 * 100))"
   ]
  },
  {
   "cell_type": "markdown",
   "id": "78ed5484",
   "metadata": {
    "id": "78ed5484"
   },
   "source": [
    "### Predviđanje"
   ]
  },
  {
   "cell_type": "code",
   "execution_count": 18,
   "id": "f5066920",
   "metadata": {
    "colab": {
     "base_uri": "https://localhost:8080/"
    },
    "id": "f5066920",
    "outputId": "ae891357-5f15-47e1-b688-506dd9dda206"
   },
   "outputs": [
    {
     "data": {
      "text/plain": [
       "array(['neutralno', 'neutralno'], dtype=object)"
      ]
     },
     "execution_count": 18,
     "metadata": {},
     "output_type": "execute_result"
    }
   ],
   "source": [
    "rečenice=[\"Volim kavu\", \"Ne volim kavu\"]\n",
    "X_vektori=vectorizer.transform(rečenice)\n",
    "pred=model.predict(X_vektori)\n",
    "le.inverse_transform(pred)"
   ]
  },
  {
   "cell_type": "markdown",
   "id": "59dc5681",
   "metadata": {
    "id": "59dc5681"
   },
   "source": [
    "## Naive Bayes"
   ]
  },
  {
   "cell_type": "code",
   "execution_count": 19,
   "id": "b08f0bed",
   "metadata": {
    "id": "b08f0bed"
   },
   "outputs": [],
   "source": [
    "from sklearn.naive_bayes import GaussianNB\n",
    "model=GaussianNB()\n",
    "model.fit(X_train.toarray(), Y_train)\n",
    "\n",
    "pred=model.predict(X_test.toarray())"
   ]
  },
  {
   "cell_type": "code",
   "execution_count": 20,
   "id": "f7d1890d",
   "metadata": {
    "colab": {
     "base_uri": "https://localhost:8080/"
    },
    "id": "f7d1890d",
    "outputId": "b52b09d9-a12f-485c-8307-4271ad84818a"
   },
   "outputs": [
    {
     "name": "stdout",
     "output_type": "stream",
     "text": [
      "Točnost: 75.84%\n",
      "F1: 33.89%\n"
     ]
    }
   ],
   "source": [
    "from sklearn.metrics import accuracy_score, f1_score\n",
    "točnost = accuracy_score(Y_test, pred)\n",
    "print(\"Točnost: {:.2f}%\".format(točnost * 100))\n",
    "f1 = f1_score(Y_test, pred, average='macro')\n",
    "print(\"F1: {:.2f}%\".format(f1 * 100))"
   ]
  },
  {
   "cell_type": "markdown",
   "id": "58d55f7f",
   "metadata": {},
   "source": [
    "## Confusion Matrix"
   ]
  },
  {
   "cell_type": "code",
   "execution_count": 14,
   "id": "b78a3f0a",
   "metadata": {},
   "outputs": [
    {
     "data": {
      "text/plain": [
       "<sklearn.metrics._plot.confusion_matrix.ConfusionMatrixDisplay at 0x773847753250>"
      ]
     },
     "execution_count": 14,
     "metadata": {},
     "output_type": "execute_result"
    },
    {
     "data": {
      "image/png": "[encoded data removed]",
      "text/plain": [
       "<Figure size 640x480 with 2 Axes>"
      ]
     },
     "metadata": {},
     "output_type": "display_data"
    }
   ],
   "source": [
    "from sklearn.metrics import confusion_matrix, ConfusionMatrixDisplay\n",
    "\n",
    "cm = confusion_matrix(Y_test, pred_xg) #labels_test, predictions\n",
    "\n",
    "disp = ConfusionMatrixDisplay(confusion_matrix=cm,display_labels=le.classes_)\n",
    "disp.plot()"
   ]
  },
  {
   "cell_type": "markdown",
   "id": "6cbd5f9f",
   "metadata": {},
   "source": [
    "## Analiza grešaka"
   ]
  },
  {
   "cell_type": "code",
   "execution_count": 15,
   "id": "5774256f",
   "metadata": {},
   "outputs": [
    {
     "name": "stdout",
     "output_type": "stream",
     "text": [
      "948\n"
     ]
    },
    {
     "data": {
      "text/html": [
       "<div>\n",
       "<style scoped>\n",
       "    .dataframe tbody tr th:only-of-type {\n",
       "        vertical-align: middle;\n",
       "    }\n",
       "\n",
       "    .dataframe tbody tr th {\n",
       "        vertical-align: top;\n",
       "    }\n",
       "\n",
       "    .dataframe thead th {\n",
       "        text-align: right;\n",
       "    }\n",
       "</style>\n",
       "<table border=\"1\" class=\"dataframe\">\n",
       "  <thead>\n",
       "    <tr style=\"text-align: right;\">\n",
       "      <th></th>\n",
       "      <th>Tekst</th>\n",
       "      <th>stvarni-sentiment</th>\n",
       "      <th>predviđeni-sentiment</th>\n",
       "    </tr>\n",
       "  </thead>\n",
       "  <tbody>\n",
       "    <tr>\n",
       "      <th>3</th>\n",
       "      <td>\"Vama, dakle, koji ste doživjeli neki vid gubi...</td>\n",
       "      <td>2</td>\n",
       "      <td>1</td>\n",
       "    </tr>\n",
       "    <tr>\n",
       "      <th>24</th>\n",
       "      <td>Djevojčica je to uronjena u knjige, strastveno...</td>\n",
       "      <td>1</td>\n",
       "      <td>2</td>\n",
       "    </tr>\n",
       "    <tr>\n",
       "      <th>32</th>\n",
       "      <td>\"Šimpraga slijed zaoštrava nabrijanim korporat...</td>\n",
       "      <td>2</td>\n",
       "      <td>1</td>\n",
       "    </tr>\n",
       "    <tr>\n",
       "      <th>35</th>\n",
       "      <td>Imao je mudar pristup rukopisima: pročitao bi ...</td>\n",
       "      <td>2</td>\n",
       "      <td>1</td>\n",
       "    </tr>\n",
       "    <tr>\n",
       "      <th>37</th>\n",
       "      <td>Ovim ne želim reći da je Claire Lombardo kopir...</td>\n",
       "      <td>2</td>\n",
       "      <td>1</td>\n",
       "    </tr>\n",
       "    <tr>\n",
       "      <th>...</th>\n",
       "      <td>...</td>\n",
       "      <td>...</td>\n",
       "      <td>...</td>\n",
       "    </tr>\n",
       "    <tr>\n",
       "      <th>910</th>\n",
       "      <td>\"Mary Oliver, dobitnica Pulitzerove nagrade i ...</td>\n",
       "      <td>2</td>\n",
       "      <td>1</td>\n",
       "    </tr>\n",
       "    <tr>\n",
       "      <th>928</th>\n",
       "      <td>Vjerujem da će ovaj roman stoga biti najzaniml...</td>\n",
       "      <td>2</td>\n",
       "      <td>1</td>\n",
       "    </tr>\n",
       "    <tr>\n",
       "      <th>937</th>\n",
       "      <td>Dojam je da je počeo pisati roman o dječaku Sa...</td>\n",
       "      <td>0</td>\n",
       "      <td>1</td>\n",
       "    </tr>\n",
       "    <tr>\n",
       "      <th>942</th>\n",
       "      <td>\"Po sličnom pamtimo osebujni roman \"\"Moja godi...</td>\n",
       "      <td>2</td>\n",
       "      <td>1</td>\n",
       "    </tr>\n",
       "    <tr>\n",
       "      <th>947</th>\n",
       "      <td>\"Dirljivo je pismo Michaela C. Hotta iz lipnja...</td>\n",
       "      <td>2</td>\n",
       "      <td>1</td>\n",
       "    </tr>\n",
       "  </tbody>\n",
       "</table>\n",
       "<p>132 rows × 3 columns</p>\n",
       "</div>"
      ],
      "text/plain": [
       "                                                 Tekst  stvarni-sentiment  \\\n",
       "3    \"Vama, dakle, koji ste doživjeli neki vid gubi...                  2   \n",
       "24   Djevojčica je to uronjena u knjige, strastveno...                  1   \n",
       "32   \"Šimpraga slijed zaoštrava nabrijanim korporat...                  2   \n",
       "35   Imao je mudar pristup rukopisima: pročitao bi ...                  2   \n",
       "37   Ovim ne želim reći da je Claire Lombardo kopir...                  2   \n",
       "..                                                 ...                ...   \n",
       "910  \"Mary Oliver, dobitnica Pulitzerove nagrade i ...                  2   \n",
       "928  Vjerujem da će ovaj roman stoga biti najzaniml...                  2   \n",
       "937  Dojam je da je počeo pisati roman o dječaku Sa...                  0   \n",
       "942  \"Po sličnom pamtimo osebujni roman \"\"Moja godi...                  2   \n",
       "947  \"Dirljivo je pismo Michaela C. Hotta iz lipnja...                  2   \n",
       "\n",
       "     predviđeni-sentiment  \n",
       "3                       1  \n",
       "24                      2  \n",
       "32                      1  \n",
       "35                      1  \n",
       "37                      1  \n",
       "..                    ...  \n",
       "910                     1  \n",
       "928                     1  \n",
       "937                     1  \n",
       "942                     1  \n",
       "947                     1  \n",
       "\n",
       "[132 rows x 3 columns]"
      ]
     },
     "execution_count": 15,
     "metadata": {},
     "output_type": "execute_result"
    }
   ],
   "source": [
    "podaci = {\"Tekst\":tekst_test, \"stvarni-sentiment\":Y_test, \"predviđeni-sentiment\":pred_xg}\n",
    "df_greške = pd.DataFrame(podaci)\n",
    "print(len(df_greške))\n",
    "df_greške[df_greške[\"stvarni-sentiment\"] != df_greške[\"predviđeni-sentiment\"]]"
   ]
  },
  {
   "cell_type": "markdown",
   "id": "05d54eef",
   "metadata": {},
   "source": [
    "## Lematizacija"
   ]
  },
  {
   "cell_type": "code",
   "execution_count": 58,
   "id": "d352f5e6",
   "metadata": {},
   "outputs": [],
   "source": [
    "#!pip install spacy"
   ]
  },
  {
   "cell_type": "code",
   "execution_count": 61,
   "id": "61e736db",
   "metadata": {},
   "outputs": [],
   "source": [
    "#!python3 -m spacy download hr_core_news_md"
   ]
  },
  {
   "cell_type": "code",
   "execution_count": 17,
   "id": "212514a4",
   "metadata": {},
   "outputs": [
    {
     "name": "stdout",
     "output_type": "stream",
     "text": [
      "89264\n"
     ]
    }
   ],
   "source": [
    "import spacy\n",
    "from spacy.lang.hr.examples import sentences\n",
    "\n",
    "nlp = spacy.load(\"hr_core_news_md\")\n",
    "\n",
    "br_tokena = 0\n",
    "for rečenica in tekst:\n",
    "    doc = nlp(rečenica)\n",
    "    for token in doc:\n",
    "        br_tokena += 1\n",
    "\n",
    "print(br_tokena)        \n",
    "#lema = \" \".join([token.lemma_ for token in doc])\n",
    "#lema"
   ]
  },
  {
   "cell_type": "markdown",
   "id": "db7769e6",
   "metadata": {},
   "source": [
    "## TensorFlow"
   ]
  },
  {
   "cell_type": "code",
   "execution_count": 22,
   "id": "284791b8",
   "metadata": {
    "id": "284791b8"
   },
   "outputs": [
    {
     "name": "stderr",
     "output_type": "stream",
     "text": [
      "2024-06-06 19:02:33.594426: I external/local_tsl/tsl/cuda/cudart_stub.cc:31] Could not find cuda drivers on your machine, GPU will not be used.\n",
      "2024-06-06 19:02:33.878107: E external/local_xla/xla/stream_executor/cuda/cuda_dnn.cc:9261] Unable to register cuDNN factory: Attempting to register factory for plugin cuDNN when one has already been registered\n",
      "2024-06-06 19:02:33.878197: E external/local_xla/xla/stream_executor/cuda/cuda_fft.cc:607] Unable to register cuFFT factory: Attempting to register factory for plugin cuFFT when one has already been registered\n",
      "2024-06-06 19:02:33.932908: E external/local_xla/xla/stream_executor/cuda/cuda_blas.cc:1515] Unable to register cuBLAS factory: Attempting to register factory for plugin cuBLAS when one has already been registered\n",
      "2024-06-06 19:02:34.051256: I external/local_tsl/tsl/cuda/cudart_stub.cc:31] Could not find cuda drivers on your machine, GPU will not be used.\n",
      "2024-06-06 19:02:34.052940: I tensorflow/core/platform/cpu_feature_guard.cc:182] This TensorFlow binary is optimized to use available CPU instructions in performance-critical operations.\n",
      "To enable the following instructions: AVX2 FMA, in other operations, rebuild TensorFlow with the appropriate compiler flags.\n",
      "2024-06-06 19:02:34.909291: W tensorflow/compiler/tf2tensorrt/utils/py_utils.cc:38] TF-TRT Warning: Could not find TensorRT\n"
     ]
    }
   ],
   "source": [
    "import tensorflow as tf\n",
    "\n",
    "model=tf.keras.Sequential([\n",
    "    tf.keras.layers.Dense(16, activation=\"relu\"),\n",
    "    tf.keras.layers.Dense(16, activation=\"relu\"),\n",
    "    tf.keras.layers.Dense(1, activation=\"sigmoid\")\n",
    "])"
   ]
  },
  {
   "cell_type": "code",
   "execution_count": 23,
   "id": "fUS7VbIkcdi4",
   "metadata": {
    "id": "fUS7VbIkcdi4"
   },
   "outputs": [],
   "source": [
    "model.compile(optimizer=tf.keras.optimizers.Adam(learning_rate=0.001),\n",
    "              loss=tf.keras.losses.CategoricalCrossentropy(),\n",
    "              metrics=[\"accuracy\"])"
   ]
  },
  {
   "cell_type": "code",
   "execution_count": 24,
   "id": "WYE-iSGKfVf1",
   "metadata": {
    "colab": {
     "base_uri": "https://localhost:8080/"
    },
    "id": "WYE-iSGKfVf1",
    "outputId": "437e60a0-a19a-4b2c-af51-4de5aec0d8c1"
   },
   "outputs": [
    {
     "name": "stdout",
     "output_type": "stream",
     "text": [
      "Epoch 1/20\n"
     ]
    },
    {
     "name": "stderr",
     "output_type": "stream",
     "text": [
      "/home/nxlinux/.local/lib/python3.10/site-packages/tensorflow/python/util/dispatch.py:1260: SyntaxWarning: In loss categorical_crossentropy, expected y_pred.shape to be (batch_size, num_classes) with num_classes > 1. Received: y_pred.shape=(None, 1). Consider using 'binary_crossentropy' if you only have 2 classes.\n",
      "  return dispatch_target(*args, **kwargs)\n"
     ]
    },
    {
     "name": "stdout",
     "output_type": "stream",
     "text": [
      "70/70 [==============================] - 1s 2ms/step - loss: 0.0000e+00 - accuracy: 0.8551\n",
      "Epoch 2/20\n",
      "70/70 [==============================] - 0s 2ms/step - loss: 0.0000e+00 - accuracy: 0.8579\n",
      "Epoch 3/20\n",
      "70/70 [==============================] - 0s 2ms/step - loss: 0.0000e+00 - accuracy: 0.8579\n",
      "Epoch 4/20\n",
      "70/70 [==============================] - 0s 2ms/step - loss: 0.0000e+00 - accuracy: 0.8579\n",
      "Epoch 5/20\n",
      "70/70 [==============================] - 0s 2ms/step - loss: 0.0000e+00 - accuracy: 0.8579\n",
      "Epoch 6/20\n",
      "70/70 [==============================] - 0s 2ms/step - loss: 0.0000e+00 - accuracy: 0.8579\n",
      "Epoch 7/20\n",
      "70/70 [==============================] - 0s 2ms/step - loss: 0.0000e+00 - accuracy: 0.8579\n",
      "Epoch 8/20\n",
      "70/70 [==============================] - 0s 2ms/step - loss: 0.0000e+00 - accuracy: 0.8579\n",
      "Epoch 9/20\n",
      "70/70 [==============================] - 0s 2ms/step - loss: 0.0000e+00 - accuracy: 0.8583\n",
      "Epoch 10/20\n",
      "70/70 [==============================] - 0s 2ms/step - loss: 0.0000e+00 - accuracy: 0.8588\n",
      "Epoch 11/20\n",
      "70/70 [==============================] - 0s 2ms/step - loss: 0.0000e+00 - accuracy: 0.8637\n",
      "Epoch 12/20\n",
      "70/70 [==============================] - 0s 2ms/step - loss: 0.0000e+00 - accuracy: 0.8633\n",
      "Epoch 13/20\n",
      "70/70 [==============================] - 0s 2ms/step - loss: 0.0000e+00 - accuracy: 0.8646\n",
      "Epoch 14/20\n",
      "70/70 [==============================] - 0s 2ms/step - loss: 0.0000e+00 - accuracy: 0.8660\n",
      "Epoch 15/20\n",
      "70/70 [==============================] - 0s 2ms/step - loss: 0.0000e+00 - accuracy: 0.8646\n",
      "Epoch 16/20\n",
      "70/70 [==============================] - 0s 2ms/step - loss: 0.0000e+00 - accuracy: 0.8674\n",
      "Epoch 17/20\n",
      "70/70 [==============================] - 0s 2ms/step - loss: 0.0000e+00 - accuracy: 0.8678\n",
      "Epoch 18/20\n",
      "70/70 [==============================] - 0s 2ms/step - loss: 0.0000e+00 - accuracy: 0.8660\n",
      "Epoch 19/20\n",
      "70/70 [==============================] - 0s 2ms/step - loss: 0.0000e+00 - accuracy: 0.8674\n",
      "Epoch 20/20\n",
      "70/70 [==============================] - 0s 2ms/step - loss: 0.0000e+00 - accuracy: 0.8696\n"
     ]
    },
    {
     "data": {
      "text/plain": [
       "<keras.src.callbacks.History at 0x7500ca3e94e0>"
      ]
     },
     "execution_count": 24,
     "metadata": {},
     "output_type": "execute_result"
    }
   ],
   "source": [
    "model.fit(X_train, Y_train, batch_size=32, epochs=20)"
   ]
  },
  {
   "cell_type": "code",
   "execution_count": 25,
   "id": "ywEnov9OfsFz",
   "metadata": {
    "colab": {
     "base_uri": "https://localhost:8080/"
    },
    "id": "ywEnov9OfsFz",
    "outputId": "e05ad22c-a28c-4a62-993c-41b014b42e95"
   },
   "outputs": [
    {
     "name": "stdout",
     "output_type": "stream",
     "text": [
      "Točnost: 75.84%\n",
      "F1: 33.89%\n"
     ]
    }
   ],
   "source": [
    "from sklearn.metrics import accuracy_score, f1_score\n",
    "točnost = accuracy_score(Y_test, pred)\n",
    "print(\"Točnost: {:.2f}%\".format(točnost * 100))\n",
    "f1 = f1_score(Y_test, pred, average='macro')\n",
    "print(\"F1: {:.2f}%\".format(f1 * 100))"
   ]
  }
 ],
 "metadata": {
  "colab": {
   "provenance": []
  },
  "kernelspec": {
   "display_name": "Python 3 (ipykernel)",
   "language": "python",
   "name": "python3"
  },
  "language_info": {
   "codemirror_mode": {
    "name": "ipython",
    "version": 3
   },
   "file_extension": ".py",
   "mimetype": "text/x-python",
   "name": "python",
   "nbconvert_exporter": "python",
   "pygments_lexer": "ipython3",
   "version": "3.10.12"
  }
 },
 "nbformat": 4,
 "nbformat_minor": 5
}
