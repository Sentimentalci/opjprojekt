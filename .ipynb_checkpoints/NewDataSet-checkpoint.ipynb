{
 "cells": [
  {
   "cell_type": "code",
   "execution_count": 37,
   "id": "f4b7eb5e",
   "metadata": {},
   "outputs": [
    {
     "name": "stdout",
     "output_type": "stream",
     "text": [
      "{\"reviewerID\": \"A1F2H80A1ZNN1N\", \"asin\": \"B00GDM3NQC\", \"reviewerName\": \"Connie Correll\", \"helpful\": [0, 0], \"reviewText\": \"I bought both boxed sets, books 1-5.  Really a great series!  Start book 1 three weeks ago and just finished book 5.  Sloane Monroe is a great character and being able to follow her through both private life and her PI life gets a reader very involved!  Although clues may be right in front of the reader, there are twists and turns that keep one guessing until the last page!  These are books you won't be disappointed with.\", \"overall\": 5.0, \"summary\": \"Can't stop reading!\", \"unixReviewTime\": 1390435200, \"reviewTime\": \"01 23, 2014\"}\n",
      "\n"
     ]
    }
   ],
   "source": [
    "with open(\"dataset.json\") as dat:\n",
    "    podaci=dat.readlines()\n",
    "    "
   ]
  },
  {
   "cell_type": "code",
   "execution_count": 38,
   "id": "53572811",
   "metadata": {},
   "outputs": [
    {
     "name": "stdout",
     "output_type": "stream",
     "text": [
      "{\"reviewerID\": \"A1F2H80A1ZNN1N\", \"asin\": \"B00GDM3NQC\", \"reviewerName\": \"Connie Correll\", \"helpful\": [0, 0], \"reviewText\": \"I bought both boxed sets, books 1-5.  Really a great series!  Start book 1 three weeks ago and just finished book 5.  Sloane Monroe is a great character and being able to follow her through both private life and her PI life gets a reader very involved!  Although clues may be right in front of the reader, there are twists and turns that keep one guessing until the last page!  These are books you won't be disappointed with.\", \"overall\": 5.0, \"summary\": \"Can't stop reading!\", \"unixReviewTime\": 1390435200, \"reviewTime\": \"01 23, 2014\"}\n",
      "\n",
      "None\n",
      "{\"reviewerID\": \"AI3DRTKCSK4KX\", \"asin\": \"B00A5MREAM\", \"reviewerName\": \"Grandma\", \"helpful\": [0, 0], \"reviewText\": \"I enjoyed this short book. But it was way way to short ....I can see how easily it would have been to add several chapters.\", \"overall\": 3.0, \"summary\": \"A leaf on the wind of all hallows\", \"unixReviewTime\": 1399593600, \"reviewTime\": \"05 9, 2014\"}\n",
      "\n",
      "None\n",
      "{\"reviewerID\": \"A3KAKFHY9DAC8A\", \"asin\": \"0446547573\", \"reviewerName\": \"toobusyreading \\\"Inspired Kathy\\\"\", \"helpful\": [1, 1], \"reviewText\": \"I love Nicholas Sparks. I&#8217;ve read everything he&#8217;s written and couldn&#8217;t wait for my copy of Safe Haven to arrive.Safe Haven had a different feel than many of Nicholas Sparks books. It was much less sappy than most of his books. Don&#8217;t get me wrong&#8230; I love sappy but this book was much deeper than many of his other books. It explored life in an abusive relationship and the struggle to escape and start over.I felt a connection to the characters and never lost interest in the story. The audio narration was well done. The only thing that annoyed me was the whiny voice the narrator used for 5 year old Kristen. Fortunately she didn&#8217;t have many lines in the book.This book played out in a predictable manner. Although one thing I have learned from reading Nicholas Sparks is that sometimes he is not predictable and he goes for the heart-break ending. This book did have an unpredictable element to the ending but thankfully it was a touching unpredictable and not a heart-breaking unpredictable.Content: Just a couple of swear words. One of the characters in this book is psycho, I mean seriously crazy. We hear his demented crazy thought process and the details of some of the things he does are described. There are scenes of physical abuse described and a few sex scenes that aren&#8217;t overly graphic but are lewd. Although I can&#8217;t classify this book as clean it wasn&#8217;t nearly as graphic as it could have been. It was well written and I would recommend it to adults who have read this content warning.Rating: 4 Stars. I made it through this book in less than 2 days. Some great writing from Nicholas Sparks.Source: I received an audio version of this book from Hachette.\", \"overall\": 4.0, \"summary\": \"Great writing from Nicholas Sparks.\", \"unixReviewTime\": 1404518400, \"reviewTime\": \"07 5, 2014\"}\n",
      "\n",
      "None\n",
      "{\"reviewerID\": \"ATYBCYD6BIXVL\", \"asin\": \"0955809215\", \"reviewerName\": \"Chrissie\", \"helpful\": [0, 0], \"reviewText\": \"I really enjoyed this adventure and look forward to reading more of Robert Spire. I especially liked all the info on global warming. You did a good job on the research.\", \"overall\": 4.0, \"summary\": \"great\", \"unixReviewTime\": 1389225600, \"reviewTime\": \"01 9, 2014\"}\n",
      "\n",
      "None\n",
      "{\"reviewerID\": \"A17K95SEU3J68U\", \"asin\": \"0991500776\", \"reviewerName\": \"Sirde \\\"artist761\\\"\", \"helpful\": [0, 0], \"reviewText\": \"It was a decent read.. typical story line. Nothing unsavory as so many are. Just a slice of life, plausible.\", \"overall\": 3.0, \"summary\": \"It was a decent read.. typical story line ...\", \"unixReviewTime\": 1404864000, \"reviewTime\": \"07 9, 2014\"}\n",
      "\n",
      "None\n",
      "{\"reviewerID\": \"AAPAK68BFPHA1\", \"asin\": \"B00HPHL9OW\", \"reviewerName\": \"Michelle Dodd\", \"helpful\": [0, 0], \"reviewText\": \"I hoped for Mia to have some peace in this book, but her story is so real and raw.  Broken World was so touching and emotional because you go from Mia's trauma to her trying to cope.  I love the way the story displays how there is no \\\"just bouncing back\\\" from being sexually assaulted.  Mia showed us how those demons come for you every day and how sometimes they best you. I was so in the moment with Broken World and hurt with Mia because she was surrounded by people but so alone and I understood her feelings.  I found myself wishing I could give her some of my courage and strength or even just to be there for her.  Thank you Lizzy for putting a great character's voice on a strong subject and making it so that other peoples story may be heard through Mia's.\", \"overall\": 5.0, \"summary\": \"Absolutely compelling book I felt Mia's Story on so many levels\", \"unixReviewTime\": 1389830400, \"reviewTime\": \"01 16, 2014\"}\n",
      "\n",
      "None\n",
      "{\"reviewerID\": \"A1ETRQ3VMHZYLK\", \"asin\": \"0307451305\", \"reviewerName\": \"Kahoutek\", \"helpful\": [0, 0], \"reviewText\": \"The book has the fevered intensity of Oliver Stone's movie \\\"JFK\\\", as the author tracks his own descent into the tangle of conspiracy theories and suspects that surround the DB Cooper hijacking case.  The book itself bounces back and forth in time, alternating between the hijacking itself, the author's journey, and the lives of the various suspects.  It becomes difficult to keep track of the characters in the story, and the book ultimately spirals away into paranoia.  An unsatisfying read that ends in a shoulder shrug that obscures more than it reveals.\", \"overall\": 2.0, \"summary\": \"A Fevered Mess\", \"unixReviewTime\": 1394668800, \"reviewTime\": \"03 13, 2014\"}\n",
      "\n",
      "None\n",
      "{\"reviewerID\": \"A3LVKEP5T8HO6D\", \"asin\": \"0843960221\", \"reviewerName\": \"Beck\", \"helpful\": [0, 0], \"reviewText\": \"This is the First book in the Trilogy, and I'm looking forward to reading the second book.  I liked how the main characters interacted with famous characters in western history.\", \"overall\": 5.0, \"summary\": \"The Road to a Hanging\", \"unixReviewTime\": 1399075200, \"reviewTime\": \"05 3, 2014\"}\n",
      "\n",
      "None\n",
      "{\"reviewerID\": \"A14PRVP4JK88E7\", \"asin\": \"B00JKW55EA\", \"reviewerName\": \"Rafase282\", \"helpful\": [0, 0], \"reviewText\": \"After reading the other book about introvert personalities by the same author I decided to venture further into the topic and get his next book. It was free so I had nothing to lose after all. This book focuses more in details how to lead a successful life while still being an introvert while also giving more details of the characteristic traits of an introvert. The author also focuses more on the dating scene here from which I can&#8217;t complaint, knowledge is power after all. So if you are an introvert who needs some relationships advice then give this book a try.\", \"overall\": 5.0, \"summary\": \"The follow up!\", \"unixReviewTime\": 1397606400, \"reviewTime\": \"04 16, 2014\"}\n",
      "\n",
      "None\n",
      "{\"reviewerID\": \"A3SOAJ7WJFHVFN\", \"asin\": \"1493770691\", \"reviewerName\": \"Sara S.\", \"helpful\": [2, 2], \"reviewText\": \"I really, really like this book because the hero, a Lutheran minister, is portrayed as a decent, caring person. I love that he is consistent in his Christian walk and lives a fun and decent life. There is no flagrant sex...what a nice change!!!!\", \"overall\": 5.0, \"summary\": \"Decency prevails!\", \"unixReviewTime\": 1397779200, \"reviewTime\": \"04 18, 2014\"}\n",
      "\n",
      "None\n"
     ]
    }
   ],
   "source": [
    "import re\n",
    "\n",
    "lista_recenzija=[]\n",
    "lista_ocjena=[]\n",
    "for i in podaci[:10]:\n",
    "    print(i)\n",
    "    tekst_recenzije = re.match(r'\"reviewText\": \".*\",', i)\n",
    "    print(tekst_recenzije)"
   ]
  },
  {
   "cell_type": "code",
   "execution_count": null,
   "id": "8232088d",
   "metadata": {},
   "outputs": [],
   "source": [
    "lista_ocjena=[negativno, negativno, neutralno, pozitivno, pozitivno]\n",
    "with open(\"dataset.tsv\", \"w\", encoding=\"utf8\") as d:\n",
    "    for i in podaci:\n",
    "        podaci_dict=dict(i)\n",
    "        d.write(podaci_dict[\"reviewText\"]+\",\")"
   ]
  },
  {
   "cell_type": "code",
   "execution_count": 10,
   "id": "a2de535b",
   "metadata": {},
   "outputs": [
    {
     "name": "stdout",
     "output_type": "stream",
     "text": [
      "{\"reviewerID\": \"A1F2H80A1ZNN1N\", \"asin\": \"B00GDM3NQC\", \"reviewerName\": \"Connie Correll\", \"helpful\": [0, 0], \"reviewText\": \"I bought both boxed sets, books 1-5.  Really a great series!  Start book 1 three weeks ago and just finished book 5.  Sloane Monroe is a great character and being able to follow her through both private life and her PI life gets a reader very involved!  Although clues may be right in front of the reader, there are twists and turns that keep one guessing until the last page!  These are books you won't be disappointed with.\", \"overall\": 5.0, \"summary\": \"Can't stop reading!\", \"unixReviewTime\": 1390435200, \"reviewTime\": \"01 23, 2014\"}\n",
      "\n"
     ]
    }
   ],
   "source": [
    "print(podaci[0])"
   ]
  }
 ],
 "metadata": {
  "kernelspec": {
   "display_name": "Python 3 (ipykernel)",
   "language": "python",
   "name": "python3"
  },
  "language_info": {
   "codemirror_mode": {
    "name": "ipython",
    "version": 3
   },
   "file_extension": ".py",
   "mimetype": "text/x-python",
   "name": "python",
   "nbconvert_exporter": "python",
   "pygments_lexer": "ipython3",
   "version": "3.10.12"
  }
 },
 "nbformat": 4,
 "nbformat_minor": 5
}
