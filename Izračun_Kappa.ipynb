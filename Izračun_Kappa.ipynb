{
 "cells": [
  {
   "cell_type": "code",
   "execution_count": 5,
   "id": "79f688fb",
   "metadata": {},
   "outputs": [
    {
     "name": "stdout",
     "output_type": "stream",
     "text": [
      "Defaulting to user installation because normal site-packages is not writeable\n",
      "Collecting openpyxl\n",
      "  Downloading openpyxl-3.1.3-py2.py3-none-any.whl (251 kB)\n",
      "\u001b[2K     \u001b[38;2;114;156;31m━━━━━━━━━━━━━━━━━━━━━━━━━━━━━━━━━━━━━━━\u001b[0m \u001b[32m251.3/251.3 KB\u001b[0m \u001b[31m3.5 MB/s\u001b[0m eta \u001b[36m0:00:00\u001b[0m[36m0:00:01\u001b[0mm eta \u001b[36m0:00:01\u001b[0m\n",
      "\u001b[?25hCollecting et-xmlfile\n",
      "  Downloading et_xmlfile-1.1.0-py3-none-any.whl (4.7 kB)\n",
      "Installing collected packages: et-xmlfile, openpyxl\n",
      "Successfully installed et-xmlfile-1.1.0 openpyxl-3.1.3\n"
     ]
    }
   ],
   "source": [
    "#!pip install statsmodels\n",
    "#!pip install openpyxl"
   ]
  },
  {
   "cell_type": "code",
   "execution_count": 6,
   "id": "08d966a1",
   "metadata": {},
   "outputs": [],
   "source": [
    "import pandas as pd\n",
    "from statsmodels.stats.inter_rater import aggregate_raters, fleiss_kappa"
   ]
  },
  {
   "cell_type": "code",
   "execution_count": 22,
   "id": "b0a2b9b8",
   "metadata": {},
   "outputs": [
    {
     "data": {
      "text/html": [
       "<div>\n",
       "<style scoped>\n",
       "    .dataframe tbody tr th:only-of-type {\n",
       "        vertical-align: middle;\n",
       "    }\n",
       "\n",
       "    .dataframe tbody tr th {\n",
       "        vertical-align: top;\n",
       "    }\n",
       "\n",
       "    .dataframe thead th {\n",
       "        text-align: right;\n",
       "    }\n",
       "</style>\n",
       "<table border=\"1\" class=\"dataframe\">\n",
       "  <thead>\n",
       "    <tr style=\"text-align: right;\">\n",
       "      <th></th>\n",
       "      <th>anotator 1</th>\n",
       "      <th>anotator 2</th>\n",
       "      <th>anotator 3</th>\n",
       "    </tr>\n",
       "    <tr>\n",
       "      <th>rečenice</th>\n",
       "      <th></th>\n",
       "      <th></th>\n",
       "      <th></th>\n",
       "    </tr>\n",
       "  </thead>\n",
       "  <tbody>\n",
       "    <tr>\n",
       "      <th>Znanstvenofantastični prvijenac biološke antropologinje Mary Dorije Russell prvi put je objavljen prije gotovo trideset godina, 1996.</th>\n",
       "      <td>neutralno</td>\n",
       "      <td>neutralno</td>\n",
       "      <td>neutralno</td>\n",
       "    </tr>\n",
       "    <tr>\n",
       "      <th>Prvi hrvatski prijevod uslijedio je pet godina kasnije, objavila ga je danas nepostojeća nakladnička kuća Izvori, a dvije godine poslije isti je nakladnik tiskao i nastavak, \"Božju djecu\", originalno na engleskom objavljen 1998. godine.</th>\n",
       "      <td>neutralno</td>\n",
       "      <td>neutralno</td>\n",
       "      <td>neutralno</td>\n",
       "    </tr>\n",
       "    <tr>\n",
       "      <th>Prošlo je, dakle, gotovo trideset godina, no oba romana i dalje pamtim.</th>\n",
       "      <td>pozitivno</td>\n",
       "      <td>pozitivno</td>\n",
       "      <td>pozitivno</td>\n",
       "    </tr>\n",
       "    <tr>\n",
       "      <th>Ne sjećam se više jesam li ih čitala u engleskom originalu ili hrvatskom prijevodu, no Emilija Sandoza, tragičnoga glavnog junaka, pokazalo se, bilo je nemoguće zaboraviti.</th>\n",
       "      <td>pozitivno</td>\n",
       "      <td>pozitivno</td>\n",
       "      <td>pozitivno</td>\n",
       "    </tr>\n",
       "    <tr>\n",
       "      <th>Baš se ovih dana, upravo kad je objavljeno novo izdanje \"Vrapca\" (Znanje, prijevod Drago Štajduhar), autoironično prisjetila pokušaja da se ekranizira njezin najpopularniji roman: dva velika američka filmska studija razmatrala su ekranizaciju – Universal Pictures planirao je angažirati Antonia Banderasa za ulogu Emilija Sandoza, potom se zadatka prihvatio Warner Bros, koji je u glavnoj ulozi vidio Brada Pitta.</th>\n",
       "      <td>neutralno</td>\n",
       "      <td>neutralno</td>\n",
       "      <td>neutralno</td>\n",
       "    </tr>\n",
       "  </tbody>\n",
       "</table>\n",
       "</div>"
      ],
      "text/plain": [
       "                                                   anotator 1 anotator 2  \\\n",
       "rečenice                                                                   \n",
       "Znanstvenofantastični prvijenac biološke antrop...  neutralno  neutralno   \n",
       "Prvi hrvatski prijevod uslijedio je pet godina ...  neutralno  neutralno   \n",
       "Prošlo je, dakle, gotovo trideset godina, no ob...  pozitivno  pozitivno   \n",
       "Ne sjećam se više jesam li ih čitala u englesko...  pozitivno  pozitivno   \n",
       "Baš se ovih dana, upravo kad je objavljeno novo...  neutralno  neutralno   \n",
       "\n",
       "                                                   anotator 3  \n",
       "rečenice                                                       \n",
       "Znanstvenofantastični prvijenac biološke antrop...  neutralno  \n",
       "Prvi hrvatski prijevod uslijedio je pet godina ...  neutralno  \n",
       "Prošlo je, dakle, gotovo trideset godina, no ob...  pozitivno  \n",
       "Ne sjećam se više jesam li ih čitala u englesko...  pozitivno  \n",
       "Baš se ovih dana, upravo kad je objavljeno novo...  neutralno  "
      ]
     },
     "execution_count": 22,
     "metadata": {},
     "output_type": "execute_result"
    }
   ],
   "source": [
    "df = pd.read_excel(\"anotacije.xlsx\", sheet_name=\"List1\", index_col=0, usecols=\"A:D\")\n",
    "df.head()"
   ]
  },
  {
   "cell_type": "code",
   "execution_count": 23,
   "id": "07e1c3ea",
   "metadata": {},
   "outputs": [
    {
     "data": {
      "text/plain": [
       "[['neutralno', 'neutralno', 'neutralno'],\n",
       " ['neutralno', 'neutralno', 'neutralno'],\n",
       " ['pozitivno', 'pozitivno', 'pozitivno'],\n",
       " ['pozitivno', 'pozitivno', 'pozitivno'],\n",
       " ['neutralno', 'neutralno', 'neutralno']]"
      ]
     },
     "execution_count": 23,
     "metadata": {},
     "output_type": "execute_result"
    }
   ],
   "source": [
    "df=df.dropna()\n",
    "df.head().values.tolist()"
   ]
  },
  {
   "cell_type": "code",
   "execution_count": 24,
   "id": "e8b43b5f",
   "metadata": {},
   "outputs": [
    {
     "data": {
      "text/plain": [
       "array([[0, 3, 0],\n",
       "       [0, 3, 0],\n",
       "       [0, 0, 3],\n",
       "       ...,\n",
       "       [0, 3, 0],\n",
       "       [0, 3, 0],\n",
       "       [0, 3, 0]])"
      ]
     },
     "execution_count": 24,
     "metadata": {},
     "output_type": "execute_result"
    }
   ],
   "source": [
    "agg, cat = aggregate_raters(df.values.tolist())\n",
    "agg"
   ]
  },
  {
   "cell_type": "code",
   "execution_count": 25,
   "id": "7198e081",
   "metadata": {},
   "outputs": [
    {
     "data": {
      "text/plain": [
       "0.6089008105547945"
      ]
     },
     "execution_count": 25,
     "metadata": {},
     "output_type": "execute_result"
    }
   ],
   "source": [
    "fleiss_kappa(agg)"
   ]
  }
 ],
 "metadata": {
  "kernelspec": {
   "display_name": "Python 3 (ipykernel)",
   "language": "python",
   "name": "python3"
  },
  "language_info": {
   "codemirror_mode": {
    "name": "ipython",
    "version": 3
   },
   "file_extension": ".py",
   "mimetype": "text/x-python",
   "name": "python",
   "nbconvert_exporter": "python",
   "pygments_lexer": "ipython3",
   "version": "3.10.12"
  }
 },
 "nbformat": 4,
 "nbformat_minor": 5
}
